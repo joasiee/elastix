{
 "cells": [
  {
   "cell_type": "code",
   "execution_count": null,
   "metadata": {},
   "outputs": [],
   "source": [
    "import matplotlib.pyplot as plt\n",
    "import matplotlib.patches as patches\n",
    "import numpy as np\n",
    "from typing import List, Tuple\n",
    "from math import floor\n",
    "import random\n",
    "from itertools import chain\n",
    "from thesispy.definitions import ROOT_DIR, IMG_DIR\n",
    "\n",
    "plt.style.use([\"science\", \"high-vis\", ROOT_DIR / \"resources/plt_custom.txt\"])\n",
    "plt.rcParams['axes.spines.right'] = True\n",
    "plt.rcParams['axes.spines.top'] = True"
   ]
  },
  {
   "cell_type": "code",
   "execution_count": null,
   "metadata": {},
   "outputs": [],
   "source": [
    "class Point:\n",
    "  def __init__(self, x: float = 0.0, y: float = 0.0):\n",
    "    self.x = x\n",
    "    self.y = y\n",
    "\n",
    "  def __mul__(self, other):\n",
    "    return Point(\n",
    "        self.x * float(other),\n",
    "        self.y * float(other)\n",
    "    )\n",
    "\n",
    "  def __add__(self, other):\n",
    "    return Point(\n",
    "        self.x + other.x,\n",
    "        self.y + other.y\n",
    "    )\n",
    "  \n",
    "  def __str__(self):\n",
    "    return f\"({self.x}, {self.y})\"\n",
    "\n",
    "  def reset(self):\n",
    "    self.x = 0.0\n",
    "    self.y = 0.0\n",
    "  \n",
    "  __rmul__ = __mul__\n",
    "  __repr__ = __str__"
   ]
  },
  {
   "cell_type": "code",
   "execution_count": null,
   "metadata": {},
   "outputs": [],
   "source": [
    "def cubic_bspline_0(t: float):\n",
    "  return (-t**3 + 3*t**2 - 3*t + 1)/6\n",
    "\n",
    "def cubic_bspline_1(t: float):\n",
    "  return (3*t**3 - 6*t**2 + 4)/6\n",
    "\n",
    "def cubic_bspline_2(t: float):\n",
    "  return (-3*t**3 + 3*t**2 + 3*t + 1)/6\n",
    "\n",
    "def cubic_bspline_3(t: float):\n",
    "  return t**3/6\n",
    "\n",
    "cubic_bsplines = [cubic_bspline_0, cubic_bspline_1, cubic_bspline_2, cubic_bspline_3]"
   ]
  },
  {
   "cell_type": "code",
   "execution_count": null,
   "metadata": {},
   "outputs": [],
   "source": [
    "def cubic_bspline_patch(x: float, y: float, c: List[List[Point]], verbose=False):\n",
    "  res = Point()\n",
    "  i = floor(x)\n",
    "  j = floor(y)\n",
    "\n",
    "  if (i == 0 or i + 3 > len(c)) or (j == 0 or j + 3 > len(c)):\n",
    "    if verbose:\n",
    "      print(f\"Patch is not defined for ({x},{y}).\")\n",
    "    return None\n",
    "\n",
    "  for m in range(4):\n",
    "    for n in range(4):\n",
    "      if verbose:\n",
    "        print(f\"bspline_{m}({x-i}) * bspline_{n}({y-j}) * {c[i+m-1][j+n-1]}\")\n",
    "      res += cubic_bsplines[m](x - i) * cubic_bsplines[n](y-j) * c[i+m-1][j+n-1]\n",
    "  \n",
    "  return res\n",
    "\n",
    "def cubic_affected_pixels(s: List[Tuple], c: List[List[Point]]):\n",
    "  flatten_c = list(chain.from_iterable(c))\n",
    "  flatten_s = [c[m][n] for m,n in s]\n",
    "  max_limit = Point(max([p.x for p in flatten_c]) - 1, max([p.y for p in flatten_c]) - 1)\n",
    "  min_limit = Point(min([p.x for p in flatten_c]) + 1, min([p.y for p in flatten_c]) + 1)\n",
    "  \n",
    "  res = []\n",
    "  for m,n in s:\n",
    "    p1 = Point(max(min_limit.x, c[m][n].x-2), max(min_limit.y, c[m][n].y-2))\n",
    "    p2 = Point(min(max_limit.x, c[m][n].x+2), min(max_limit.y, c[m][n].y+2))\n",
    "    res.append((p1,p2))\n",
    "\n",
    "  return res\n",
    "\n",
    "\n",
    "def generate_grid(n: int, r=False):\n",
    "  res = []\n",
    "  for i in range(n):\n",
    "    res.append([Point(i+random.uniform(0, 1), j+random.uniform(0, 1)) if r else Point(i, j) for j in range(n)])\n",
    "  return np.array(res)"
   ]
  },
  {
   "cell_type": "code",
   "execution_count": null,
   "metadata": {},
   "outputs": [],
   "source": [
    "fig = plt.figure(figsize=(8, 8))\n",
    "grid_size = 12\n",
    "c = generate_grid(grid_size, False)\n",
    "\n",
    "cpoints_x = [p.x for p in c.flatten()]\n",
    "cpoints_y = [p.y for p in c.flatten()]\n",
    "plt.scatter(cpoints_x, cpoints_y, c='red', marker='+')\n",
    "\n",
    "axis_vals = np.linspace(0, grid_size, 100)\n",
    "\n",
    "for x in range(2, grid_size-1):\n",
    "  p1 = []\n",
    "  p2 = []\n",
    "  for y in axis_vals:\n",
    "    p1.append(cubic_bspline_patch(x, y, c))\n",
    "    p2.append(cubic_bspline_patch(y, x, c))\n",
    "\n",
    "  p1 = np.array(p1)\n",
    "  p2 = np.array(p2)\n",
    "  p1_x = [p.x for p in p1.flatten()[p1 != np.array(None)]]\n",
    "  p1_y = [p.y for p in p1.flatten()[p1 != np.array(None)]]\n",
    "  p2_x = [p.x for p in p2.flatten()[p2 != np.array(None)]]\n",
    "  p2_y = [p.y for p in p2.flatten()[p2 != np.array(None)]]\n",
    "\n",
    "  plt.plot(p1_x, p1_y, c='blue', linestyle='-')\n",
    "  plt.plot(p2_x, p2_y, c='blue', linestyle='-')"
   ]
  },
  {
   "cell_type": "code",
   "execution_count": null,
   "metadata": {},
   "outputs": [],
   "source": [
    "n = 7\n",
    "dist = n-3\n",
    "c = generate_grid(n)\n",
    "colors = [['r' for _ in x] for x in c]\n",
    "selection = []\n",
    "for m,n in selection:\n",
    "  colors[m][n] = 'b'\n",
    "rects = cubic_affected_pixels(selection, c)\n",
    "colors = list(chain.from_iterable(colors))\n",
    "\n",
    "fig, ax = plt.subplots(figsize=(10,10))\n",
    "cpoints_x = [p.x for p in c.flatten()]\n",
    "cpoints_y = [p.y for p in c.flatten()]\n",
    "ax.scatter(cpoints_x, cpoints_y, c=colors, marker='+')\n",
    "\n",
    "outer_rect = patches.Rectangle((1, 1), dist, dist, linewidth=1, edgecolor='gray', facecolor='none')\n",
    "ax.add_patch(outer_rect)\n",
    "\n",
    "for p1, p2 in rects:\n",
    "  rect = patches.Rectangle((p1.x, p1.y), p2.x - p1.x, p2.y - p1.y, linewidth=1, edgecolor='b', facecolor='none')\n",
    "  ax.add_patch(rect)"
   ]
  },
  {
   "cell_type": "code",
   "execution_count": 6,
   "metadata": {},
   "outputs": [
    {
     "data": {
      "image/png": "[encoded data removed]",
      "text/plain": [
       "<Figure size 576x576 with 1 Axes>"
      ]
     },
     "metadata": {
      "needs_background": "light"
     },
     "output_type": "display_data"
    }
   ],
   "source": [
    "fig = plt.figure(figsize=(8, 8))\n",
    "plt.axis('off')\n",
    "\n",
    "grid_size = 4\n",
    "c = generate_grid(grid_size, False)\n",
    "\n",
    "cpoints_x = [p.x for p in c.flatten()]\n",
    "cpoints_y = [p.y for p in c.flatten()]\n",
    "\n",
    "for x in [0, 1, 2, 3]:\n",
    "    plt.plot([x, x], [0, 3], c='black', linestyle='-')\n",
    "    plt.plot([x, x], [-1, 0], c='gray', linestyle=(0, (5, 5)), linewidth=2)\n",
    "    plt.plot([x, x], [3, 4], c='gray', linestyle=(0, (5, 5)), linewidth=2)\n",
    "\n",
    "for y in [0, 1, 2, 3]:\n",
    "    plt.plot([0, 3], [y, y], c='black', linestyle='-')\n",
    "    plt.plot([-1, 0], [y, y], c='gray', linestyle=(0, (5, 5)), linewidth=2)\n",
    "    plt.plot([3, 4], [y, y], c='gray', linestyle=(0, (5, 5)), linewidth=2)\n",
    "\n",
    "plt.fill_between([1, 2], [2, 2], [1, 1], color='gray')\n",
    "plt.scatter(cpoints_x, cpoints_y, c='black', marker='s', s=100, zorder=100)\n",
    "\n",
    "plt.savefig(IMG_DIR / \"bspline_cpoints_affected_patch.pdf\")"
   ]
  },
  {
   "cell_type": "code",
   "execution_count": null,
   "metadata": {},
   "outputs": [],
   "source": [
    "cpoints_y"
   ]
  },
  {
   "cell_type": "code",
   "execution_count": null,
   "metadata": {},
   "outputs": [],
   "source": []
  }
 ],
 "metadata": {
  "kernelspec": {
   "display_name": "Python 3.10.4 ('.venv': poetry)",
   "language": "python",
   "name": "python3"
  },
  "language_info": {
   "codemirror_mode": {
    "name": "ipython",
    "version": 3
   },
   "file_extension": ".py",
   "mimetype": "text/x-python",
   "name": "python",
   "nbconvert_exporter": "python",
   "pygments_lexer": "ipython3",
   "version": "3.10.4"
  },
  "orig_nbformat": 4,
  "vscode": {
   "interpreter": {
    "hash": "2d2a6e7db805271b0cf909e41ec1d2658bc0cfc8d3a5bab4aa81712494dfdd87"
   }
  }
 },
 "nbformat": 4,
 "nbformat_minor": 2
}
