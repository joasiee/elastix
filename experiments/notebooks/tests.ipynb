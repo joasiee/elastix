{
    "cells": [
        {
            "cell_type": "code",
            "execution_count": null,
            "metadata": {},
            "outputs": [],
            "source": [
                "import numpy as np\n",
                "\n",
                "grid_size = (5,5,5)\n",
                "n_points = np.prod(grid_size)\n",
                "params = np.zeros(np.prod(grid_size)*3)\n",
                "for i, p in enumerate(np.ndindex(grid_size)):\n",
                "    params[i] = p[2]\n",
                "    params[n_points + i] = p[1]\n",
                "    params[2*n_points + i] = p[0]"
            ]
        },
        {
            "cell_type": "code",
            "execution_count": null,
            "metadata": {},
            "outputs": [],
            "source": [
                "import numpy as np\n",
                "import seaborn as sns\n",
                "import matplotlib.pyplot as plt\n",
                "\n",
                "x = np.loadtxt(\"points.txt\")\n",
                "spacing = [3, 3, 3]\n",
                "size = [13, 13, 13]\n",
                "slice = 6\n",
                "\n",
                "plt.figure(figsize=(8,8))\n",
                "for p in x:\n",
                "    if p[2] == slice:\n",
                "        plt.scatter(p[3], p[4], c=\"r\")"
            ]
        },
        {
            "cell_type": "code",
            "execution_count": 3,
            "metadata": {},
            "outputs": [
                {
                    "name": "stderr",
                    "output_type": "stream",
                    "text": [
                        "2022-10-25 16:17:48,236 - Wrapper - INFO - Running elastix in: /home/joasiee/Documents/projects/elastix/experiments/output/1666707468_synthetic_1_adaptivestochasticgradientdescent_235948\n",
                        "2022-10-25 16:17:48,949 - Wrapper - INFO - Run ended. It took 0.7131 seconds\n",
                        "2022-10-25 16:17:48,950 - Wrapper - INFO - Running elastix in: /home/joasiee/Documents/projects/elastix/experiments/output/1666707468_synthetic_1_adaptivestochasticgradientdescent_949969\n",
                        "2022-10-25 16:17:49,883 - Wrapper - INFO - Run ended. It took 0.9337 seconds\n",
                        "2022-10-25 16:17:49,885 - Wrapper - INFO - Running elastix in: /home/joasiee/Documents/projects/elastix/experiments/output/1666707469_synthetic_1_adaptivestochasticgradientdescent_884638\n",
                        "2022-10-25 16:17:50,705 - Wrapper - INFO - Run ended. It took 0.8201 seconds\n",
                        "2022-10-25 16:17:50,706 - Wrapper - INFO - Running elastix in: /home/joasiee/Documents/projects/elastix/experiments/output/1666707470_synthetic_1_adaptivestochasticgradientdescent_705715\n",
                        "2022-10-25 16:17:51,573 - Wrapper - INFO - Run ended. It took 0.8680 seconds\n",
                        "2022-10-25 16:17:51,575 - Wrapper - INFO - Running elastix in: /home/joasiee/Documents/projects/elastix/experiments/output/1666707471_synthetic_1_adaptivestochasticgradientdescent_574616\n",
                        "2022-10-25 16:17:52,372 - Wrapper - INFO - Run ended. It took 0.7974 seconds\n",
                        "2022-10-25 16:17:52,373 - Wrapper - INFO - Running elastix in: /home/joasiee/Documents/projects/elastix/experiments/output/1666707472_synthetic_1_adaptivestochasticgradientdescent_373291\n",
                        "2022-10-25 16:17:53,155 - Wrapper - INFO - Run ended. It took 0.7825 seconds\n",
                        "2022-10-25 16:17:53,156 - Wrapper - INFO - Running elastix in: /home/joasiee/Documents/projects/elastix/experiments/output/1666707473_synthetic_1_adaptivestochasticgradientdescent_156617\n",
                        "2022-10-25 16:17:53,988 - Wrapper - INFO - Run ended. It took 0.8317 seconds\n",
                        "2022-10-25 16:17:53,989 - Wrapper - INFO - Running elastix in: /home/joasiee/Documents/projects/elastix/experiments/output/1666707473_synthetic_1_adaptivestochasticgradientdescent_989232\n",
                        "2022-10-25 16:17:54,783 - Wrapper - INFO - Run ended. It took 0.7946 seconds\n",
                        "2022-10-25 16:17:54,785 - Wrapper - INFO - Running elastix in: /home/joasiee/Documents/projects/elastix/experiments/output/1666707474_synthetic_1_adaptivestochasticgradientdescent_784778\n",
                        "2022-10-25 16:17:55,579 - Wrapper - INFO - Run ended. It took 0.7950 seconds\n",
                        "2022-10-25 16:17:55,581 - Wrapper - INFO - Running elastix in: /home/joasiee/Documents/projects/elastix/experiments/output/1666707475_synthetic_1_adaptivestochasticgradientdescent_580766\n",
                        "2022-10-25 16:17:56,347 - Wrapper - INFO - Run ended. It took 0.7669 seconds\n",
                        "2022-10-25 16:17:56,348 - Wrapper - INFO - Running elastix in: /home/joasiee/Documents/projects/elastix/experiments/output/1666707476_synthetic_1_adaptivestochasticgradientdescent_348356\n",
                        "2022-10-25 16:17:57,117 - Wrapper - INFO - Run ended. It took 0.7694 seconds\n",
                        "2022-10-25 16:17:57,118 - Wrapper - INFO - Running elastix in: /home/joasiee/Documents/projects/elastix/experiments/output/1666707477_synthetic_1_adaptivestochasticgradientdescent_118497\n",
                        "2022-10-25 16:17:57,919 - Wrapper - INFO - Run ended. It took 0.8004 seconds\n",
                        "2022-10-25 16:17:57,920 - Wrapper - INFO - Running elastix in: /home/joasiee/Documents/projects/elastix/experiments/output/1666707477_synthetic_1_adaptivestochasticgradientdescent_919983\n",
                        "2022-10-25 16:17:58,710 - Wrapper - INFO - Run ended. It took 0.7908 seconds\n",
                        "2022-10-25 16:17:58,711 - Wrapper - INFO - Running elastix in: /home/joasiee/Documents/projects/elastix/experiments/output/1666707478_synthetic_1_adaptivestochasticgradientdescent_711715\n",
                        "2022-10-25 16:17:59,571 - Wrapper - INFO - Run ended. It took 0.8592 seconds\n",
                        "2022-10-25 16:17:59,572 - Wrapper - INFO - Running elastix in: /home/joasiee/Documents/projects/elastix/experiments/output/1666707479_synthetic_1_adaptivestochasticgradientdescent_571812\n",
                        "2022-10-25 16:18:00,382 - Wrapper - INFO - Run ended. It took 0.8103 seconds\n",
                        "2022-10-25 16:18:00,383 - Wrapper - INFO - Running elastix in: /home/joasiee/Documents/projects/elastix/experiments/output/1666707480_synthetic_1_adaptivestochasticgradientdescent_382907\n",
                        "2022-10-25 16:18:01,111 - Wrapper - INFO - Run ended. It took 0.7280 seconds\n"
                    ]
                },
                {
                    "name": "stdout",
                    "output_type": "stream",
                    "text": [
                        "811 ms ± 47.4 ms per loop (mean ± std. dev. of 15 runs, 1 loop each)\n"
                    ]
                }
            ],
            "source": [
                "%%timeit -r 15\n",
                "\n",
                "from pathlib import Path\n",
                "from thesispy.elastix_wrapper.wrapper import run\n",
                "from thesispy.elastix_wrapper.parameters import Parameters\n",
                "from thesispy.definitions import Collection, ROOT_DIR\n",
                "from thesispy.experiments.validation import plot_cpoints\n",
                "\n",
                "params_main = (\n",
                "        Parameters.from_base(mesh_size=4, metric=\"AdvancedMeanSquares\", seed=2)\n",
                "        .asgd()\n",
                "        .regularize(0.01)\n",
                "        .stopping_criteria(200)\n",
                "        .instance(Collection.SYNTHETIC, 1)\n",
                ")\n",
                "_ = run(params_main, ROOT_DIR / \"output/\" / str(params_main), suppress_stdout=True, visualize=False, validate=False)"
            ]
        },
        {
            "cell_type": "code",
            "execution_count": null,
            "metadata": {},
            "outputs": [],
            "source": []
        }
    ],
    "metadata": {
        "interpreter": {
            "hash": "2d2a6e7db805271b0cf909e41ec1d2658bc0cfc8d3a5bab4aa81712494dfdd87"
        },
        "kernelspec": {
            "display_name": "Python 3.10.4 ('.venv': poetry)",
            "language": "python",
            "name": "python3"
        },
        "language_info": {
            "codemirror_mode": {
                "name": "ipython",
                "version": 3
            },
            "file_extension": ".py",
            "mimetype": "text/x-python",
            "name": "python",
            "nbconvert_exporter": "python",
            "pygments_lexer": "ipython3",
            "version": "3.10.7"
        },
        "orig_nbformat": 4
    },
    "nbformat": 4,
    "nbformat_minor": 2
}
