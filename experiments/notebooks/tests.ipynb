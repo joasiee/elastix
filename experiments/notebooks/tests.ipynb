{
    "cells": [
        {
            "cell_type": "code",
            "execution_count": 1,
            "metadata": {},
            "outputs": [],
            "source": [
                "from thesispy.elastix_wrapper.runner import run\n",
                "from thesispy.elastix_wrapper.parameters import Parameters, Collection\n",
                "from pathlib import Path"
            ]
        },
        {
            "cell_type": "code",
            "execution_count": 2,
            "metadata": {},
            "outputs": [
                {
                    "name": "stderr",
                    "output_type": "stream",
                    "text": [
                        "2023-03-16 13:56:02,828 - Runner - INFO - Running elastix in: ../output/1678971362_learn_1_gomea_827387\n",
                        "2023-03-16 13:56:42,886 - Runner - INFO - Run ended. It took 40.0588 seconds\n",
                        "2023-03-16 13:56:42,889 - Runner - INFO - Running elastix in: ../output/1678971402_learn_1_gomea_888369\n",
                        "2023-03-16 13:57:23,605 - Runner - INFO - Run ended. It took 40.7159 seconds\n",
                        "2023-03-16 13:57:23,607 - Runner - INFO - Running elastix in: ../output/1678971443_learn_1_gomea_606655\n",
                        "2023-03-16 13:58:00,748 - Runner - INFO - Run ended. It took 37.1409 seconds\n",
                        "2023-03-16 13:58:00,751 - Runner - INFO - Running elastix in: ../output/1678971480_learn_1_gomea_750358\n",
                        "2023-03-16 13:58:42,118 - Runner - INFO - Run ended. It took 41.3679 seconds\n",
                        "2023-03-16 13:58:42,120 - Runner - INFO - Running elastix in: ../output/1678971522_learn_1_gomea_120207\n",
                        "2023-03-16 13:59:19,202 - Runner - INFO - Run ended. It took 37.0820 seconds\n"
                    ]
                },
                {
                    "name": "stdout",
                    "output_type": "stream",
                    "text": [
                        "39.3 s ± 1.81 s per loop (mean ± std. dev. of 5 runs, 1 loop each)\n"
                    ]
                }
            ],
            "source": [
                "%%timeit -n 1 -r 3\n",
                "\n",
                "params = (\n",
                "    Parameters.from_base(mesh_size=5, metric=\"AdvancedNormalizedCorrelation\", seed=1, use_mask=True)\n",
                "    .gomea()\n",
                "    .multi_resolution(1, r_sched=[3])\n",
                "    .stopping_criteria(3)\n",
                "    .instance(Collection.LEARN, 1)\n",
                ")\n",
                "result = run(params, Path(\"../output/\" + str(params)), suppress_stdout=True, visualize=False, validate=False)"
            ]
        },
        {
            "cell_type": "code",
            "execution_count": null,
            "metadata": {},
            "outputs": [],
            "source": []
        }
    ],
    "metadata": {
        "interpreter": {
            "hash": "2d2a6e7db805271b0cf909e41ec1d2658bc0cfc8d3a5bab4aa81712494dfdd87"
        },
        "kernelspec": {
            "display_name": "Python 3.10.4 ('.venv': poetry)",
            "language": "python",
            "name": "python3"
        },
        "language_info": {
            "codemirror_mode": {
                "name": "ipython",
                "version": 3
            },
            "file_extension": ".py",
            "mimetype": "text/x-python",
            "name": "python",
            "nbconvert_exporter": "python",
            "pygments_lexer": "ipython3",
            "version": "3.10.10"
        },
        "orig_nbformat": 4
    },
    "nbformat": 4,
    "nbformat_minor": 2
}
