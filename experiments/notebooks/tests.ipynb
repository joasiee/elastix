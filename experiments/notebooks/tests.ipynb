{
 "cells": [
  {
   "cell_type": "code",
   "execution_count": 1,
   "metadata": {},
   "outputs": [],
   "source": [
    "import numpy as np\n",
    "from pathlib import Path\n",
    "\n",
    "lm_dir = Path(\"/home/joasiee/Documents/instances/learn/landmarks\")\n",
    "files = lm_dir.glob('*')\n",
    "for file in files:\n",
    "    lms = np.loadtxt(file)\n",
    "\n",
    "    with open(file, \"wb\") as file:\n",
    "        n_points = len(lms)\n",
    "        file.write(b\"index\\n\")\n",
    "        file.write(bytes(str(n_points), encoding=\"utf-8\") + b\"\\n\")\n",
    "        np.savetxt(file, lms, fmt='%f')"
   ]
  },
  {
   "cell_type": "code",
   "execution_count": null,
   "metadata": {},
   "outputs": [],
   "source": []
  }
 ],
 "metadata": {
  "interpreter": {
   "hash": "2d2a6e7db805271b0cf909e41ec1d2658bc0cfc8d3a5bab4aa81712494dfdd87"
  },
  "kernelspec": {
   "display_name": "Python 3.10.4 ('.venv': poetry)",
   "language": "python",
   "name": "python3"
  },
  "language_info": {
   "codemirror_mode": {
    "name": "ipython",
    "version": 3
   },
   "file_extension": ".py",
   "mimetype": "text/x-python",
   "name": "python",
   "nbconvert_exporter": "python",
   "pygments_lexer": "ipython3",
   "version": "3.10.4"
  },
  "orig_nbformat": 4
 },
 "nbformat": 4,
 "nbformat_minor": 2
}
