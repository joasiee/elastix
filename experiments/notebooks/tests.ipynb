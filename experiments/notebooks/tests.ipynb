{
    "cells": [
        {
            "cell_type": "code",
            "execution_count": 5,
            "metadata": {},
            "outputs": [],
            "source": [
                "from thesispy.elastix_wrapper.runner import run\n",
                "from thesispy.elastix_wrapper.parameters import Parameters, Collection\n",
                "from thesispy.definitions import *\n",
                "\n",
                "from pathlib import Path"
            ]
        },
        {
            "cell_type": "code",
            "execution_count": 6,
            "metadata": {},
            "outputs": [
                {
                    "name": "stderr",
                    "output_type": "stream",
                    "text": [
                        "2023-03-18 11:12:32,031 - Runner - INFO - Running elastix in: ../output/1679134352_learn_1_gomea_30870\n",
                        "2023-03-18 11:15:38,318 - Runner - INFO - Run ended. It took 186.2873 seconds\n",
                        "2023-03-18 11:15:38,321 - Runner - INFO - Running elastix in: ../output/1679134538_learn_1_gomea_320392\n",
                        "2023-03-18 11:18:49,310 - Runner - INFO - Run ended. It took 190.9898 seconds\n"
                    ]
                },
                {
                    "name": "stdout",
                    "output_type": "stream",
                    "text": [
                        "3min 8s ± 2.35 s per loop (mean ± std. dev. of 2 runs, 1 loop each)\n"
                    ]
                }
            ],
            "source": [
                "%%timeit -n 1 -r 2\n",
                "\n",
                "params = (\n",
                "    Parameters.from_base(mesh_size=5, metric=\"AdvancedNormalizedCorrelation\", seed=1, use_mask=True)\n",
                "    .gomea()\n",
                "    .multi_resolution(1, r_sched=[5])\n",
                "    .stopping_criteria(3)\n",
                "    .instance(Collection.LEARN, 1)\n",
                ")\n",
                "result = run(params, Path(\"../output/\" + str(params)), suppress_stdout=True, visualize=False, validate=False)"
            ]
        },
        {
            "cell_type": "code",
            "execution_count": null,
            "metadata": {},
            "outputs": [],
            "source": []
        }
    ],
    "metadata": {
        "interpreter": {
            "hash": "2d2a6e7db805271b0cf909e41ec1d2658bc0cfc8d3a5bab4aa81712494dfdd87"
        },
        "kernelspec": {
            "display_name": "Python 3.10.4 ('.venv': poetry)",
            "language": "python",
            "name": "python3"
        },
        "language_info": {
            "codemirror_mode": {
                "name": "ipython",
                "version": 3
            },
            "file_extension": ".py",
            "mimetype": "text/x-python",
            "name": "python",
            "nbconvert_exporter": "python",
            "pygments_lexer": "ipython3",
            "version": "3.10.10"
        },
        "orig_nbformat": 4
    },
    "nbformat": 4,
    "nbformat_minor": 2
}
