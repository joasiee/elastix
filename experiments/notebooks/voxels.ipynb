{
 "cells": [
  {
   "cell_type": "code",
   "execution_count": 2,
   "metadata": {},
   "outputs": [],
   "source": [
    "from pathlib import Path\n",
    "import matplotlib.pyplot as plt\n",
    "import numpy as np\n",
    "import SimpleITK as sitk\n",
    "import matplotlib.cm as cm\n",
    "from matplotlib.colors import Normalize\n",
    "\n",
    "INSTANCES_PATH = Path('/home/joasiee/Documents/instances/synthetic/scans/')"
   ]
  },
  {
   "cell_type": "code",
   "execution_count": 3,
   "metadata": {},
   "outputs": [],
   "source": [
    "def read_image(path: Path):\n",
    "    image = sitk.ReadImage(str(path.resolve()))\n",
    "    return image\n",
    "\n",
    "def plot_voxels(data, y_slice_depth = 15, orientation=(0, -70), cmap_name='gray'):\n",
    "    ax = plt.figure(figsize=(8,8)).add_subplot(projection='3d')\n",
    "    sliced_data = np.copy(data)\n",
    "    sliced_data[:, :y_slice_depth, :] = 0\n",
    "    \n",
    "    cmap = cm.get_cmap(cmap_name)\n",
    "    norm = Normalize(vmin=np.min(sliced_data), vmax=np.max(sliced_data))\n",
    "\n",
    "    colors = np.empty(sliced_data.shape, dtype=object)\n",
    "    colors = np.array(list(map(lambda x: cmap(norm(x)), sliced_data)))\n",
    "\n",
    "    ax.voxels(sliced_data, facecolors=colors, edgecolor='k')\n",
    "    ax.set_xlim3d(2, 28)\n",
    "    ax.set_ylim3d(5, 28)\n",
    "    ax.set_zlim3d(2, 28)\n",
    "    ax.set_box_aspect((np.ptp(ax.get_xlim()), np.ptp(ax.get_ylim()), np.ptp(ax.get_zlim())))\n",
    "    plt.locator_params(axis='y', nbins=3)\n",
    "    ax.view_init(*orientation)"
   ]
  },
  {
   "cell_type": "code",
   "execution_count": 64,
   "metadata": {},
   "outputs": [],
   "source": []
  },
  {
   "cell_type": "code",
   "execution_count": null,
   "metadata": {},
   "outputs": [],
   "source": []
  }
 ],
 "metadata": {
  "kernelspec": {
   "display_name": "Python 3.10.6 ('.venv': poetry)",
   "language": "python",
   "name": "python3"
  },
  "language_info": {
   "codemirror_mode": {
    "name": "ipython",
    "version": 3
   },
   "file_extension": ".py",
   "mimetype": "text/x-python",
   "name": "python",
   "nbconvert_exporter": "python",
   "pygments_lexer": "ipython3",
   "version": "3.10.6"
  },
  "orig_nbformat": 4,
  "vscode": {
   "interpreter": {
    "hash": "2d2a6e7db805271b0cf909e41ec1d2658bc0cfc8d3a5bab4aa81712494dfdd87"
   }
  }
 },
 "nbformat": 4,
 "nbformat_minor": 2
}
