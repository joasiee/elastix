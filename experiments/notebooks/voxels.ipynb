{
 "cells": [
  {
   "cell_type": "code",
   "execution_count": 55,
   "metadata": {},
   "outputs": [],
   "source": [
    "from pathlib import Path\n",
    "import matplotlib.pyplot as plt\n",
    "import numpy as np\n",
    "import SimpleITK as sitk\n",
    "import matplotlib.cm as cm\n",
    "from matplotlib.colors import Normalize\n",
    "import seaborn as sns\n",
    "from thesispy.definitions import ROOT_DIR\n",
    "\n",
    "INSTANCES_PATH = Path('/home/joasiee/Documents/instances/synthetic/scans/')"
   ]
  },
  {
   "cell_type": "code",
   "execution_count": 56,
   "metadata": {},
   "outputs": [],
   "source": [
    "def get_img_data(path: Path):\n",
    "    image = sitk.ReadImage(str(path.resolve()))\n",
    "    return sitk.GetArrayFromImage(image)\n",
    "\n",
    "def plot_voxels(data, y_slice_depth = 15, orientation=(0, -70), cmap_name='gray'):\n",
    "    ax = plt.figure(figsize=(8,8)).add_subplot(projection='3d')\n",
    "    sliced_data = np.copy(data)\n",
    "    sliced_data[:, :y_slice_depth, :] = 0\n",
    "    \n",
    "    cmap = cm.get_cmap(cmap_name)\n",
    "    norm = Normalize(vmin=np.min(sliced_data), vmax=np.max(sliced_data))\n",
    "\n",
    "    colors = np.empty(sliced_data.shape, dtype=object)\n",
    "    colors = np.array(list(map(lambda x: cmap(norm(x)), sliced_data)))\n",
    "\n",
    "    ax.voxels(sliced_data, facecolors=colors, edgecolor='k')\n",
    "    ax.set_xlim3d(2, 28)\n",
    "    ax.set_ylim3d(5, 28)\n",
    "    ax.set_zlim3d(2, 28)\n",
    "    ax.set_box_aspect((np.ptp(ax.get_xlim()), np.ptp(ax.get_ylim()), np.ptp(ax.get_zlim())))\n",
    "    plt.locator_params(axis='y', nbins=3)\n",
    "    ax.view_init(*orientation)\n",
    "\n",
    "def plot_dvf(data, slice=15):\n",
    "    X, Y = np.indices(data.shape[:2])\n",
    "    u = data[:, slice, :, 0]\n",
    "    v = data[:, slice, :, 2]\n",
    "    colors = np.linalg.norm(data[:, slice, :, [0, 2]], axis=0) # np swaps smallest dim axis to 0\n",
    "    \n",
    "    fig, ax = plt.subplots(figsize =(8, 8))\n",
    "    ax.quiver(X, Y, u, v, colors, angles='xy', scale_units='xy', cmap=\"Greys\")\n",
    "    plt.show()"
   ]
  },
  {
   "cell_type": "code",
   "execution_count": 66,
   "metadata": {},
   "outputs": [],
   "source": [
    "from joblib import Parallel, delayed\n",
    "import numdifftools as nd\n",
    "\n",
    "def hessian(dvf_slice, p):\n",
    "  p = np.array(p, dtype=int)\n",
    "  try:\n",
    "    dvf_slice[tuple(p)]\n",
    "  except IndexError:\n",
    "    print(f\"Point {p} is out of bounds\")\n",
    "    return None\n",
    "\n",
    "  n = len(p)\n",
    "  output = np.matrix(np.zeros(n*n))\n",
    "  output = output.reshape(n,n)\n",
    "  max_indices = np.array(dvf_slice.shape) - 1\n",
    "  \n",
    "  for i in range(n):\n",
    "    for j in range(n):\n",
    "      ei = np.zeros(n, dtype=int)\n",
    "      ei[i] = 1\n",
    "      ej = np.zeros(n, dtype=int)\n",
    "      ej[j] = 1\n",
    "      f1 = dvf_slice[tuple(np.clip(p + ei + ej, 0, max_indices))]\n",
    "      f2 = dvf_slice[tuple(np.clip(p + ei - ej, 0, max_indices))]\n",
    "      f3 = dvf_slice[tuple(np.clip(p - ei + ej, 0, max_indices))]\n",
    "      f4 = dvf_slice[tuple(np.clip(p - ei - ej, 0, max_indices))]\n",
    "      numdiff = (f1-f2-f3+f4)/4\n",
    "      output[i,j] = numdiff\n",
    "  return output\n",
    "\n",
    "def get_hessians_numdiff(dvf):\n",
    "    hessians = []\n",
    "    for dim in range(len(dvf.shape)-1):\n",
    "        dvf_slice = dvf[..., dim]\n",
    "        max_indices = np.array(dvf_slice.shape) - 1\n",
    "        dvf_mapping = lambda x: dvf_slice[tuple(np.clip(x.astype(int), 0, max_indices))]\n",
    "        hessian = nd.Hessian(dvf_mapping, step=1)\n",
    "        hessians.append(hessian)\n",
    "    return hessians\n",
    "\n",
    "def bending_energy(dvf):\n",
    "  results = Parallel(n_jobs=16)(delayed(bending_energy_point)(dvf, p) for p in np.ndindex(dvf.shape[:-1]))\n",
    "  return np.sum(results) / np.prod(dvf.shape[:-1])\n",
    "\n",
    "def bending_energy_point(dvf, p):\n",
    "  sum = 0.0\n",
    "  for dim in range(len(dvf.shape)-1):\n",
    "    sum += np.square(np.linalg.norm(hessian(dvf[..., dim], p)))\n",
    "  return sum\n",
    "\n",
    "def bending_energy_numdiff(dvf):\n",
    "  sum = 0.0\n",
    "  hessians = get_hessians_numdiff(dvf)\n",
    "  for p in np.ndindex(dvf.shape[:-1]):\n",
    "    for dim in range(len(dvf.shape)-1):\n",
    "      sum += np.square(np.linalg.norm(hessians[dim](p)))\n",
    "  return sum / np.prod(dvf.shape[:-1])"
   ]
  },
  {
   "cell_type": "code",
   "execution_count": 63,
   "metadata": {},
   "outputs": [
    {
     "data": {
      "text/plain": [
       "0.005566545035513931"
      ]
     },
     "execution_count": 63,
     "metadata": {},
     "output_type": "execute_result"
    }
   ],
   "source": [
    "data = get_img_data(ROOT_DIR / \"output\" / \"1662734354_synthetic_1_adaptivestochasticgradientdescent_314898\" / \"out\" / \"deformationField.mhd\")\n",
    "bending_energy(data)"
   ]
  },
  {
   "cell_type": "code",
   "execution_count": 65,
   "metadata": {},
   "outputs": [
    {
     "data": {
      "text/plain": [
       "0.00556654503551399"
      ]
     },
     "execution_count": 65,
     "metadata": {},
     "output_type": "execute_result"
    }
   ],
   "source": [
    "bending_energy(data)"
   ]
  },
  {
   "cell_type": "code",
   "execution_count": 53,
   "metadata": {},
   "outputs": [
    {
     "data": {
      "text/plain": [
       "array([[-6.77056232e-05,  5.20151480e-05,  5.20151480e-05],\n",
       "       [ 5.20151480e-05,  4.62580647e-05,  2.28720892e-05],\n",
       "       [ 5.20151480e-05,  2.28720892e-05,  4.62580647e-05]])"
      ]
     },
     "execution_count": 53,
     "metadata": {},
     "output_type": "execute_result"
    }
   ],
   "source": [
    "hessians = get_hessians_numdiff(data)\n",
    "hessians[0]([0,0,0])"
   ]
  },
  {
   "cell_type": "code",
   "execution_count": null,
   "metadata": {},
   "outputs": [],
   "source": []
  }
 ],
 "metadata": {
  "kernelspec": {
   "display_name": "Python 3.10.6 ('.venv': poetry)",
   "language": "python",
   "name": "python3"
  },
  "language_info": {
   "codemirror_mode": {
    "name": "ipython",
    "version": 3
   },
   "file_extension": ".py",
   "mimetype": "text/x-python",
   "name": "python",
   "nbconvert_exporter": "python",
   "pygments_lexer": "ipython3",
   "version": "3.10.6"
  },
  "orig_nbformat": 4,
  "vscode": {
   "interpreter": {
    "hash": "2d2a6e7db805271b0cf909e41ec1d2658bc0cfc8d3a5bab4aa81712494dfdd87"
   }
  }
 },
 "nbformat": 4,
 "nbformat_minor": 2
}
