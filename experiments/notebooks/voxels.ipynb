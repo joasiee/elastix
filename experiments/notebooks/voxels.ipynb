{
 "cells": [
  {
   "cell_type": "code",
   "execution_count": 1,
   "metadata": {},
   "outputs": [],
   "source": [
    "from pathlib import Path\n",
    "import matplotlib.pyplot as plt\n",
    "import numpy as np\n",
    "import SimpleITK as sitk\n",
    "\n",
    "INSTANCES_PATH = Path('/home/joasiee/Documents/instances/synthetic/scans/')"
   ]
  },
  {
   "cell_type": "code",
   "execution_count": 2,
   "metadata": {},
   "outputs": [],
   "source": [
    "def read_image(path: Path):\n",
    "    image = sitk.ReadImage(str(path.resolve()))\n",
    "    return image"
   ]
  },
  {
   "cell_type": "code",
   "execution_count": 64,
   "metadata": {},
   "outputs": [],
   "source": [
    "import plotly.graph_objects as go\n",
    "import plotly.io as pio\n",
    "pio.renderers.default = \"notebook_connected\"\n",
    "import numpy as np\n",
    "\n",
    "X, Y, Z = np.mgrid[0:30, 0:30, 0:30]\n",
    "values = sitk.GetArrayFromImage(read_image(INSTANCES_PATH / '01_Fixed.mhd'))\n",
    "\n",
    "layout = go.Layout(\n",
    "    scene=dict(\n",
    "        xaxis = go.layout.scene.XAxis(showticklabels=False, title=''),\n",
    "        yaxis = go.layout.scene.YAxis(showticklabels=False, title=''),\n",
    "        zaxis = go.layout.scene.ZAxis(showticklabels=False, title=''),\n",
    "    )\n",
    ")\n",
    "\n",
    "fig = go.Figure(data=go.Volume(\n",
    "    x=X.flatten(),\n",
    "    y=Y.flatten(),\n",
    "    z=Z.flatten(),\n",
    "    value=values.flatten(),\n",
    "    showscale=False,\n",
    "    isomin=100,\n",
    "    isomax=200,\n",
    "    opacity=0.1,\n",
    "    colorscale='gray',\n",
    "    surface_count=3,\n",
    "    ), layout=layout)\n",
    "\n",
    "fig.write_image(\"img/synthetic_1_fixed.pdf\", scale=5, width=1000, height=1000)"
   ]
  },
  {
   "cell_type": "code",
   "execution_count": null,
   "metadata": {},
   "outputs": [],
   "source": []
  }
 ],
 "metadata": {
  "kernelspec": {
   "display_name": "Python 3.10.6 ('.venv': poetry)",
   "language": "python",
   "name": "python3"
  },
  "language_info": {
   "codemirror_mode": {
    "name": "ipython",
    "version": 3
   },
   "file_extension": ".py",
   "mimetype": "text/x-python",
   "name": "python",
   "nbconvert_exporter": "python",
   "pygments_lexer": "ipython3",
   "version": "3.10.6"
  },
  "orig_nbformat": 4,
  "vscode": {
   "interpreter": {
    "hash": "2d2a6e7db805271b0cf909e41ec1d2658bc0cfc8d3a5bab4aa81712494dfdd87"
   }
  }
 },
 "nbformat": 4,
 "nbformat_minor": 2
}
