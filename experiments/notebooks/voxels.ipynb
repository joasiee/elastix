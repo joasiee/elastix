{
    "cells": [
        {
            "cell_type": "code",
            "execution_count": 1,
            "metadata": {},
            "outputs": [],
            "source": [
                "from pathlib import Path\n",
                "import matplotlib.pyplot as plt\n",
                "import numpy as np\n",
                "import SimpleITK as sitk\n",
                "import matplotlib.cm as cm\n",
                "from matplotlib.colors import Normalize, LinearSegmentedColormap\n",
                "import seaborn as sns\n",
                "from thesispy.definitions import ROOT_DIR, INSTANCES_SRC\n",
                "from thesispy.experiments.validation import *\n",
                "from thesispy.plot_utils import *\n",
                "\n",
                "def generate_sphere(x, y, z, radius, center):\n",
                "    return (x - center[0] + 0.5)**2 + (y - center[1] + 0.5)**2 + (z - center[2] + 0.5)**2 < radius**2\n",
                "\n",
                "def generate_cube(dims, low, high, val=50):\n",
                "    cube = np.zeros(dims)\n",
                "    cube[low:high, low:high, low:high] = val\n",
                "    return cube    \n",
                "\n",
                "def map_sphere(p, radius, center, new_radius):\n",
                "    p = np.array(p)\n",
                "    center = np.array(center)\n",
                "    if np.all(p == center):\n",
                "        return p\n",
                "    \n",
                "    radius += 0.5\n",
                "    p = (p - center) / radius\n",
                "    p = p * new_radius\n",
                "    return p + center\n",
                "\n",
                "def calc_prob_1d_gaussian(x, mean, var):\n",
                "    return np.exp(-0.5 * (x - mean)**2 / var) / np.sqrt(2 * np.pi * var)\n",
                "\n",
                "def map_fixed_point_using_spheres(p, center, r_sphere_m, r_sq):\n",
                "    p = np.array(p)\n",
                "    center = np.array(center)\n",
                "    p_norm = p - center\n",
                "\n",
                "    p_sq_sphere = (r_sq-0.5) / np.linalg.norm(p_norm) * p_norm + center\n",
                "    p_sphere_m = (r_sphere_m+0.5) / np.linalg.norm(p_norm) * p_norm + center\n",
                "    d1 = np.linalg.norm(p_norm)\n",
                "    d2 = np.linalg.norm(p_sq_sphere - center)\n",
                "    if d1 >= d2:\n",
                "        return p\n",
                "    else: \n",
                "        return p_sphere_m + (d1/d2)**2 * (p_sq_sphere - p_sphere_m)\n",
                "\n",
                "def map_fixed_point_using_sq(p, center, r_sphere_m, r_sq):\n",
                "    p = np.array(p)\n",
                "    center = np.array(center)\n",
                "    p_norm = p - center\n",
                "    u = np.max(np.abs(p_norm))\n",
                "\n",
                "    p_sq = (r_sq-0.5) * (p_norm/u) + center\n",
                "    p_sphere_m = (r_sphere_m + 0.5) / np.linalg.norm(p_norm) * p_norm + center\n",
                "    d1 = np.linalg.norm(p_norm)\n",
                "    d2 = np.linalg.norm(p_sq - center)\n",
                "    return p_sphere_m + (d1/d2)**3 * (p_sq - p_sphere_m)\n",
                "\n",
                "def generate_synthetic_01(version=2, sphere_val=100):\n",
                "    fixed = generate_cube((24, 24, 24), 2, 22)\n",
                "    fixed_sphere = generate_sphere(*np.indices(fixed.shape), 5, (12, 12, 12))\n",
                "    fixed[fixed_sphere > 0] = sphere_val\n",
                "\n",
                "    moving = generate_cube((24, 24, 24), 2, 22)\n",
                "    moving_sphere = generate_sphere(*np.indices(moving.shape), 8, (12, 12, 12))\n",
                "    moving[moving_sphere > 0] = sphere_val\n",
                "\n",
                "    dvf = np.zeros((24, 24, 24, 3), dtype=np.float32)\n",
                "    for p in np.ndindex((24, 24, 24)):\n",
                "        p_pixel = np.array(p) + 0.5\n",
                "        if fixed_sphere[p] > 0:\n",
                "            dvf[p] = map_sphere(p_pixel, 5, (12, 12, 12), 8) - p_pixel\n",
                "\n",
                "        elif fixed[p] > 0:\n",
                "            if version == 1:\n",
                "                dvf[p] = map_fixed_point_using_spheres(p_pixel, (12,12,12), 8, 10) - p_pixel\n",
                "            elif version == 2:\n",
                "                dvf[p] = map_fixed_point_using_sq(p_pixel, (12,12,12), 8, 10) - p_pixel\n",
                "            else:\n",
                "                raise Exception(f\"Invalid version number: {version}\")\n",
                "        \n",
                "    return fixed, moving, dvf"
            ]
        },
        {
            "cell_type": "code",
            "execution_count": 2,
            "metadata": {},
            "outputs": [],
            "source": [
                "fixed, moving, dvf = generate_synthetic_01()"
            ]
        },
        {
            "cell_type": "code",
            "execution_count": 3,
            "metadata": {},
            "outputs": [
                {
                    "name": "stderr",
                    "output_type": "stream",
                    "text": [
                        "/tmp/ipykernel_14438/2550294831.py:2: UserWarning: Tight layout not applied. The left and right margins cannot be made large enough to accommodate all axes decorations.\n",
                        "  plt.tight_layout()\n"
                    ]
                }
            ],
            "source": [
                "plot_voxels(fixed)\n",
                "plt.tight_layout()\n",
                "plt.savefig(\"syn_1_fixed.pdf\", bbox_inches=\"tight\")"
            ]
        },
        {
            "cell_type": "code",
            "execution_count": 4,
            "metadata": {},
            "outputs": [
                {
                    "name": "stderr",
                    "output_type": "stream",
                    "text": [
                        "/tmp/ipykernel_14438/3824468286.py:2: UserWarning: Tight layout not applied. The left and right margins cannot be made large enough to accommodate all axes decorations.\n",
                        "  plt.tight_layout()\n"
                    ]
                }
            ],
            "source": [
                "plot_voxels(moving)\n",
                "plt.tight_layout()\n",
                "plt.savefig(\"syn_1_moving.pdf\", bbox_inches=\"tight\")"
            ]
        },
        {
            "cell_type": "code",
            "execution_count": 5,
            "metadata": {},
            "outputs": [
                {
                    "name": "stderr",
                    "output_type": "stream",
                    "text": [
                        "computing bending energy: 100%|██████████| 13824/13824 [00:01<00:00, 10897.06it/s]\n"
                    ]
                },
                {
                    "data": {
                        "text/plain": [
                            "1180.7833624648829"
                        ]
                    },
                    "execution_count": 5,
                    "metadata": {},
                    "output_type": "execute_result"
                }
            ],
            "source": [
                "bending_energy(dvf)"
            ]
        },
        {
            "cell_type": "code",
            "execution_count": 3,
            "metadata": {},
            "outputs": [],
            "source": [
                "plot_dvf(dvf, scale=1)\n",
                "plt.title(\"Deformation Vector Field\")\n",
                "plt.tight_layout()\n",
                "plt.savefig(\"syn_1_dvf.pdf\", bbox_inches=\"tight\")\n",
                "# np.save('01.npy', dvf)"
            ]
        },
        {
            "cell_type": "code",
            "execution_count": 5,
            "metadata": {},
            "outputs": [
                {
                    "data": {
                        "text/plain": [
                            "0.48595795"
                        ]
                    },
                    "execution_count": 5,
                    "metadata": {},
                    "output_type": "execute_result"
                }
            ],
            "source": [
                "dvf_rmse(dvf, np.zeros_like(dvf))"
            ]
        },
        {
            "cell_type": "code",
            "execution_count": 5,
            "metadata": {},
            "outputs": [
                {
                    "name": "stderr",
                    "output_type": "stream",
                    "text": [
                        "2023-03-16 12:31:23,647 - Validation - INFO - Jacobian min,max: 0.2829003632068634, 4.9785261154174805\n"
                    ]
                }
            ],
            "source": [
                "jac_det = jacobian_determinant(np.swapaxes(dvf, 0, 2))\n",
                "plt.tight_layout()\n",
                "plt.savefig(\"syn_1_jacdet.pdf\", bbox_inches=\"tight\")"
            ]
        },
        {
            "cell_type": "code",
            "execution_count": 7,
            "metadata": {},
            "outputs": [
                {
                    "data": {
                        "text/plain": [
                            "(0.28290036, 4.5038524)"
                        ]
                    },
                    "execution_count": 7,
                    "metadata": {},
                    "output_type": "execute_result"
                }
            ],
            "source": [
                "np.min(jac_det), np.max(jac_det)"
            ]
        },
        {
            "cell_type": "code",
            "execution_count": null,
            "metadata": {},
            "outputs": [],
            "source": [
                "reference_image = sitk.ReadImage(INSTANCES_SRC / 'synthetic' / 'scans' / '01_Fixed.mhd')\n",
                "moving_image = sitk.ReadImage(INSTANCES_SRC / 'synthetic' / 'scans' / '01_Moving.mhd')\n",
                "dvf_img = sitk.GetImageFromArray(np.swapaxes(dvf, 0, 2).astype(np.float64), isVector=True)\n",
                "displacement_transform = sitk.DisplacementFieldTransform(dvf_img)\n",
                "moving_deformed = sitk.Resample(moving_image, reference_image, displacement_transform, sitk.sitkNearestNeighbor, 0.0, moving_image.GetPixelID())\n",
                "deformed = sitk.GetArrayFromImage(moving_deformed)\n",
                "deformed = np.swapaxes(deformed, 0, 2)\n",
                "# sitk.WriteImage(moving_deformed, INSTANCES_SRC / 'synthetic' / 'scans' / '01_Fixed.mhd')"
            ]
        },
        {
            "cell_type": "code",
            "execution_count": null,
            "metadata": {},
            "outputs": [],
            "source": [
                "np.sum(fixed != deformed)"
            ]
        },
        {
            "cell_type": "code",
            "execution_count": null,
            "metadata": {},
            "outputs": [],
            "source": [
                "# # Bending energy calculation using interpolation\n",
                "\n",
                "# from joblib import Parallel, delayed\n",
                "# import numdifftools as nd\n",
                "# from interp3d import interp_3d\n",
                "# from tqdm import tqdm\n",
                "\n",
                "# def get_hessians_numdiff(dvf):\n",
                "#   hessians = []\n",
                "#   for dim in range(len(dvf.shape)-1):\n",
                "#       dvf_slice = dvf[..., dim]\n",
                "#       max_indices = np.array(dvf_slice.shape) - 1\n",
                "#       dvf_mapping = lambda x: dvf_slice[tuple(np.clip(x.astype(int), 0, max_indices))]\n",
                "#       hessian = nd.Hessian(dvf_mapping, step=1)\n",
                "#       hessians.append(hessian)\n",
                "#   return hessians\n",
                "\n",
                "# def bending_energy_numdiff(dvf):\n",
                "#   sum = 0.0\n",
                "#   hessians = get_hessians_numdiff(dvf)\n",
                "#   for p in np.ndindex(dvf.shape[:-1]):\n",
                "#     for dim in range(len(dvf.shape)-1):\n",
                "#       sum += np.square(np.linalg.norm(hessians[dim](p)))\n",
                "#   return sum / np.prod(dvf.shape[:-1])\n",
                "\n",
                "# def hessian(grid_interpolator, p, delta):\n",
                "#   p = np.array(p)\n",
                "#   try:\n",
                "#     grid_interpolator(p)\n",
                "#   except ValueError:\n",
                "#     print(f\"Point {p} is out of bounds\")\n",
                "#     return None\n",
                "\n",
                "#   n = len(p)\n",
                "#   output = np.matrix(np.zeros(n*n))\n",
                "#   output = output.reshape(n,n)\n",
                "#   max_indices = [grid_interpolator.max_x, grid_interpolator.max_y, grid_interpolator.max_z]\n",
                "  \n",
                "#   for i in range(n):\n",
                "#     for j in range(i+1):\n",
                "#       ei = np.zeros(n)\n",
                "#       ei[i] = 1\n",
                "#       ej = np.zeros(n)\n",
                "#       ej[j] = 1\n",
                "#       f1 = grid_interpolator(np.clip(p + delta * ei + delta * ej, 0, max_indices))\n",
                "#       f2 = grid_interpolator(np.clip(p + delta * ei - delta * ej, 0, max_indices))\n",
                "#       f3 = grid_interpolator(np.clip(p - delta * ei + delta * ej, 0, max_indices))\n",
                "#       f4 = grid_interpolator(np.clip(p - delta * ei - delta * ej, 0, max_indices))\n",
                "#       numdiff = (f1-f2-f3+f4)/(4*delta*delta)\n",
                "#       output[i,j] = numdiff\n",
                "#       output[j,i] = numdiff\n",
                "#   return output\n",
                "\n",
                "# def bending_energy_point(interpolator, p, delta):\n",
                "#   return np.square(np.linalg.norm(hessian(interpolator, p, delta)))\n",
                "\n",
                "# def bending_energy(dvf, delta=0.333):\n",
                "#   n = np.prod(dvf.shape[:-1])\n",
                "\n",
                "#   x = np.arange(dvf.shape[0])\n",
                "#   y = np.arange(dvf.shape[1])\n",
                "#   z = np.arange(dvf.shape[2])\n",
                "#   sum = 0.0\n",
                "\n",
                "#   for dim in range(len(dvf.shape)-1):\n",
                "#     dvf_slice = np.copy(dvf[..., dim], order='C').astype(np.float64)\n",
                "#     fn = interp_3d.Interp3D(dvf_slice, x,y,z)\n",
                "#     results = ProgressParallel(n_jobs=16, total=n)(delayed(bending_energy_point)(fn, p, delta) for p in np.ndindex(dvf.shape[:-1]))\n",
                "#     sum += np.sum(results)\n",
                "\n",
                "#   return sum / np.prod(dvf.shape[:-1])"
            ]
        },
        {
            "cell_type": "code",
            "execution_count": null,
            "metadata": {},
            "outputs": [],
            "source": []
        }
    ],
    "metadata": {
        "kernelspec": {
            "display_name": "Python 3.9.10 ('.venv': poetry)",
            "language": "python",
            "name": "python3"
        },
        "language_info": {
            "codemirror_mode": {
                "name": "ipython",
                "version": 3
            },
            "file_extension": ".py",
            "mimetype": "text/x-python",
            "name": "python",
            "nbconvert_exporter": "python",
            "pygments_lexer": "ipython3",
            "version": "3.10.10"
        },
        "orig_nbformat": 4,
        "vscode": {
            "interpreter": {
                "hash": "2d2a6e7db805271b0cf909e41ec1d2658bc0cfc8d3a5bab4aa81712494dfdd87"
            }
        }
    },
    "nbformat": 4,
    "nbformat_minor": 2
}
