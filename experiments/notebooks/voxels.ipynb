{
 "cells": [
  {
   "cell_type": "code",
   "execution_count": 1,
   "metadata": {},
   "outputs": [],
   "source": [
    "from pathlib import Path\n",
    "import matplotlib.pyplot as plt\n",
    "import numpy as np\n",
    "import SimpleITK as sitk\n",
    "import matplotlib.cm as cm\n",
    "from matplotlib.colors import Normalize\n",
    "import seaborn as sns\n",
    "from thesispy.definitions import ROOT_DIR\n",
    "\n",
    "INSTANCES_PATH = Path('/home/joasiee/Documents/projects/instances/synthetic/')"
   ]
  },
  {
   "cell_type": "code",
   "execution_count": 2,
   "metadata": {},
   "outputs": [],
   "source": [
    "def generate_sphere(x, y, z, radius, center):\n",
    "    return (x - center[0] + 0.5)**2 + (y - center[1] + 0.5)**2 + (z - center[2] + 0.5)**2 < radius**2\n",
    "\n",
    "def generate_cube(dims, low, high, val=100):\n",
    "    cube = np.zeros(dims)\n",
    "    cube[low:high, low:high, low:high] = val\n",
    "    return cube    \n",
    "\n",
    "def map_sphere(p, radius, center, new_radius):\n",
    "    p = np.array(p)\n",
    "    center = np.array(center)\n",
    "    if np.all(p == center):\n",
    "        return p\n",
    "    \n",
    "    p = (p - center) / radius\n",
    "    p = p * new_radius\n",
    "    return p + center\n",
    "\n",
    "def map_fixed_point_in_moving_sphere(p, center, r_sphere_f, r_sphere_m, r_sq):\n",
    "    p = np.array(p)\n",
    "    center = np.array(center)\n",
    "    p_norm = p - center\n",
    "    u = np.max(np.abs(p_norm))\n",
    "    \n",
    "    p_sq = r_sq * (p_norm / u) + center\n",
    "    p_sphere_m = r_sphere_m / np.linalg.norm(p_norm) * p_norm + center\n",
    "    p_sphere_f = r_sphere_f / np.linalg.norm(p_norm) * p_norm + center\n",
    "    d1 = np.linalg.norm(p - p_sphere_f)\n",
    "    d2 = np.linalg.norm(p_sphere_f - p_sphere_m)\n",
    "    return p_sphere_m + d1/d2 * (p_sq - p_sphere_m)\n",
    "\n",
    "def generate_synthetic_01():\n",
    "    fixed = generate_cube((30, 30, 30), 5, 25)\n",
    "    fixed_sphere = generate_sphere(*np.indices(fixed.shape), 5, (15, 15, 15))\n",
    "    fixed[fixed_sphere > 0] = 200\n",
    "\n",
    "    moving = generate_cube((30, 30, 30), 5, 25)\n",
    "    moving_sphere = generate_sphere(*np.indices(moving.shape), 8, (15, 15, 15))\n",
    "    moving[moving_sphere > 0] = 200\n",
    "\n",
    "    dvf = np.zeros((30, 30, 30, 3), dtype=np.float32)\n",
    "    for p in np.ndindex((30, 30, 30)):\n",
    "        p_pixel = np.array(p) + 0.5\n",
    "        if fixed_sphere[p] > 0:\n",
    "            dvf[p] = map_sphere(p_pixel, 5, (15, 15, 15), 8) - p_pixel\n",
    "\n",
    "            # pixel rounding error fix by moving point 1 pixel back in opposite direction\n",
    "            mapped_pos = tuple(np.round(p_pixel + dvf[p] - 0.5).astype(int))\n",
    "            if moving_sphere[mapped_pos] == 0:\n",
    "                dir = np.sign(dvf[p])*-1\n",
    "                dvf[p] = dvf[p] + dir * 0.5\n",
    "\n",
    "        elif moving_sphere[p] > 0:\n",
    "            dvf[p] = map_fixed_point_in_moving_sphere(p_pixel, (15, 15, 15), 5, 8, 10) - p_pixel\n",
    "\n",
    "        pos = p_pixel + dvf[p]\n",
    "        dir = np.sign(dvf[p])\n",
    "        for dim in range(len(pos)):\n",
    "            if dir[dim] < 0:\n",
    "                pos[dim] = np.floor(pos[dim]) + 0.5\n",
    "            else:\n",
    "                pos[dim] = np.ceil(pos[dim]) - 0.5\n",
    "        dvf[p] = pos - p_pixel\n",
    "        \n",
    "    return fixed, moving, dvf"
   ]
  },
  {
   "cell_type": "code",
   "execution_count": 3,
   "metadata": {},
   "outputs": [],
   "source": [
    "def get_img_data(path: Path):\n",
    "    image = sitk.ReadImage(str(path.resolve()))\n",
    "    data = sitk.GetArrayFromImage(image)\n",
    "    if len(data.shape) == 4 or (len(data.shape) == 3 and data.shape[-1] > 2):\n",
    "        data = np.swapaxes(data, 0, 2)\n",
    "    else:\n",
    "        data = np.swapaxes(data, 0, 1)\n",
    "\n",
    "    return data\n",
    "\n",
    "def get_cmap_color(cmap, f, a):\n",
    "    c = cmap(f)\n",
    "    c[..., 3] = a\n",
    "    return c\n",
    "\n",
    "def plot_voxels(data, lms=None, y_slice_depth = 15, orientation=(0, -70), cmap_name='Greys', alpha=1.0):\n",
    "    ax = plt.figure(figsize=(8,8)).add_subplot(projection='3d')\n",
    "    sliced_data = np.copy(data)\n",
    "    sliced_data[:, :y_slice_depth, :] = 0\n",
    "    \n",
    "    cmap = cm.get_cmap(cmap_name)\n",
    "    norm = Normalize(vmin=np.min(sliced_data), vmax=1.5*np.max(sliced_data))\n",
    "\n",
    "    colors = np.array(list(map(lambda x: get_cmap_color(cmap, norm(x), alpha), sliced_data)))\n",
    "\n",
    "    ax.voxels(sliced_data, facecolors=colors, edgecolor=(0, 0, 0, 0.2))\n",
    "    ax.set_xlim3d(1, 29)\n",
    "    ax.set_ylim3d(5, 29)\n",
    "    ax.set_zlim3d(1, 29)\n",
    "    ax.set_box_aspect((np.ptp(ax.get_xlim()), np.ptp(ax.get_ylim()), np.ptp(ax.get_zlim())))\n",
    "    plt.locator_params(axis='y', nbins=3)\n",
    "    ax.view_init(*orientation)\n",
    "\n",
    "    if lms is not None:\n",
    "        for lm in lms:\n",
    "            if abs(lm[1] - y_slice_depth) <= 0.25:\n",
    "                ax.scatter(lm[0], lm[1], lm[2], s=50, c='r')\n",
    "\n",
    "def plot_dvf(data, scale=1.0, invert=False, slice=None):\n",
    "    if len(data.shape[:-1]) > 2:\n",
    "        if slice is None:\n",
    "            slice = data.shape[0] // 2\n",
    "        data = data[:,:,slice,:]\n",
    "    \n",
    "    X, Y = np.meshgrid(np.arange(data.shape[0]), np.arange(data.shape[1]))\n",
    "    if invert:\n",
    "        X = X + data[..., 1]\n",
    "        Y = Y + data[..., 0]\n",
    "        data = -data\n",
    "\n",
    "    X = X + 0.5\n",
    "    Y = Y + 0.5\n",
    "\n",
    "    u = data[:,:,0]\n",
    "    v = data[:,:,1]\n",
    "    c = np.sqrt(u**2 + v**2)\n",
    "    \n",
    "    fig, ax = plt.subplots(figsize =(7, 7))\n",
    "    qq = ax.quiver(X, Y, v, u, c, scale=scale, units='xy', angles='xy', scale_units='xy', cmap=plt.cm.Greys)\n",
    "\n",
    "    ax.set_xticks([i for i in range(data.shape[0])][::2])\n",
    "    ax.set_yticks([i for i in range(data.shape[1])][::2])\n",
    "    ax.set_xlim(0, data.shape[0])\n",
    "    ax.set_ylim(0, data.shape[1])\n",
    "    ax.grid(True)\n",
    "    ax.set_aspect('equal')\n",
    "    fig.colorbar(qq,fraction=0.045, pad=0.02, label='Displacement magnitude')\n",
    "    plt.show()"
   ]
  },
  {
   "cell_type": "code",
   "execution_count": 4,
   "metadata": {},
   "outputs": [],
   "source": [
    "from joblib import Parallel, delayed\n",
    "from tqdm import tqdm\n",
    "from scipy.spatial import distance\n",
    "from skimage import data\n",
    "from skimage.filters import threshold_multiotsu\n",
    "\n",
    "class ProgressParallel(Parallel):\n",
    "    def __init__(self, use_tqdm=True, total=None, *args, **kwargs):\n",
    "        self._use_tqdm = use_tqdm\n",
    "        self._total = total\n",
    "        super().__init__(*args, **kwargs)\n",
    "\n",
    "    def __call__(self, *args, **kwargs):\n",
    "        with tqdm(disable=not self._use_tqdm, total=self._total) as self._pbar:\n",
    "            return Parallel.__call__(self, *args, **kwargs)\n",
    "\n",
    "    def print_progress(self):\n",
    "        if self._total is None:\n",
    "            self._pbar.total = self.n_dispatched_tasks\n",
    "        self._pbar.n = self.n_completed_tasks\n",
    "        self._pbar.refresh()\n",
    "\n",
    "def hessian(dvf_slice, p):\n",
    "  p = np.array(p, dtype=int)\n",
    "  try:\n",
    "    dvf_slice[tuple(p)]\n",
    "  except IndexError:\n",
    "    print(f\"Point {p} is out of bounds\")\n",
    "    return None\n",
    "\n",
    "  n = len(p)\n",
    "  output = np.matrix(np.zeros(n*n))\n",
    "  output = output.reshape(n,n)\n",
    "  max_indices = np.array(dvf_slice.shape) - 1\n",
    "  ei = np.zeros(n, dtype=int)\n",
    "  ej = np.zeros(n, dtype=int)\n",
    "  \n",
    "  for i in range(n):\n",
    "    for j in range(i+1):\n",
    "      ei[i] = 1\n",
    "      ej[j] = 1\n",
    "      f1 = dvf_slice[tuple((np.clip(p + ei + ej, 0, max_indices)))]\n",
    "      f2 = dvf_slice[tuple((np.clip(p + ei - ej, 0, max_indices)))]\n",
    "      f3 = dvf_slice[tuple((np.clip(p - ei + ej, 0, max_indices)))]\n",
    "      f4 = dvf_slice[tuple((np.clip(p - ei - ej, 0, max_indices)))]\n",
    "      numdiff = (f1-f2-f3+f4)/4     \n",
    "      output[i,j] = numdiff\n",
    "      output[j,i] = numdiff\n",
    "      ei[i] = 0\n",
    "      ej[j] = 0\n",
    "  return output\n",
    "\n",
    "def bending_energy_point(dvf, p):\n",
    "  sum = 0.0\n",
    "  for dim in range(len(dvf.shape)-1):\n",
    "    sum += np.square(np.linalg.norm(hessian(dvf[..., dim], p)))\n",
    "  return sum\n",
    "\n",
    "def bending_energy(dvf):\n",
    "  results = ProgressParallel(n_jobs=16, total=np.prod(dvf.shape[:-1]))(delayed(bending_energy_point)(dvf, p) for p in np.ndindex(dvf.shape[:-1]))\n",
    "\n",
    "  return np.sum(results) / np.prod(dvf.shape[:-1])\n",
    "\n",
    "def dice_similarity(moving_deformed, fixed, levels):\n",
    "  thresholds_moving = threshold_multiotsu(moving_deformed, classes=levels)\n",
    "  thresholds_fixed = threshold_multiotsu(fixed, classes=levels)\n",
    "  regions_moving_deformed = np.digitize(moving_deformed, bins=thresholds_moving)\n",
    "  regions_fixed = np.digitize(fixed, bins=thresholds_fixed)\n",
    "\n",
    "  intersection = np.sum((regions_moving_deformed == regions_fixed) & (regions_fixed > 0))\n",
    "  union = np.sum(regions_moving_deformed > 0 ) + np.sum(regions_fixed > 0)\n",
    "  return 2.0 * intersection / union\n",
    "\n",
    "def hausdorff_distance(lms1, lms2, spacing=1):\n",
    "    return np.max(distance.cdist(lms1, lms2).min(axis=1))\n",
    "\n",
    "def dvf_rmse(dvf1, dvf2, spacing=1):\n",
    "    return np.linalg.norm((dvf1 - dvf2) * spacing, axis=3).mean()\n",
    "\n",
    "def mean_surface_distance(lms1, lms2, spacing=1):\n",
    "    return np.mean(distance.cdist(lms1, lms2).min(axis=1) * spacing)\n",
    "  "
   ]
  },
  {
   "cell_type": "code",
   "execution_count": 9,
   "metadata": {},
   "outputs": [
    {
     "data": {
      "text/plain": [
       "0.27031103"
      ]
     },
     "execution_count": 9,
     "metadata": {},
     "output_type": "execute_result"
    }
   ],
   "source": [
    "fixed, moving, dvf = generate_synthetic_01()\n",
    "dvf_rmse(dvf, np.zeros_like(dvf))"
   ]
  },
  {
   "cell_type": "code",
   "execution_count": 8,
   "metadata": {},
   "outputs": [
    {
     "data": {
      "text/plain": [
       "0.797"
      ]
     },
     "execution_count": 8,
     "metadata": {},
     "output_type": "execute_result"
    }
   ],
   "source": [
    "from thesispy.experiments.instance import get_np_array\n",
    "\n",
    "moving = get_np_array(INSTANCES_PATH / 'scans' / '01_Moving.mhd')\n",
    "fixed = get_np_array(INSTANCES_PATH / 'scans' / '01_Fixed.mhd')\n",
    "\n",
    "dice_similarity(moving, fixed, 3)"
   ]
  },
  {
   "cell_type": "code",
   "execution_count": 27,
   "metadata": {},
   "outputs": [
    {
     "data": {
      "text/plain": [
       "dtype('uint8')"
      ]
     },
     "execution_count": 27,
     "metadata": {},
     "output_type": "execute_result"
    }
   ],
   "source": [
    "fixed.dtype"
   ]
  },
  {
   "cell_type": "code",
   "execution_count": null,
   "metadata": {},
   "outputs": [],
   "source": []
  },
  {
   "cell_type": "code",
   "execution_count": null,
   "metadata": {},
   "outputs": [],
   "source": []
  },
  {
   "cell_type": "code",
   "execution_count": 43,
   "metadata": {},
   "outputs": [
    {
     "name": "stdout",
     "output_type": "stream",
     "text": [
      "Volume contracting: min -10.125, max 8.0.\n"
     ]
    },
    {
     "data": {
      "text/plain": [
       "<AxesSubplot:>"
      ]
     },
     "execution_count": 43,
     "metadata": {},
     "output_type": "execute_result"
    },
    {
     "data": {
      "image/png": "[encoded data removed]",
      "text/plain": [
       "<Figure size 640x480 with 2 Axes>"
      ]
     },
     "metadata": {},
     "output_type": "display_data"
    }
   ],
   "source": [
    "import SimpleITK as sitk\n",
    "import numpy as np\n",
    "\n",
    "fixed, moving, dvf = generate_synthetic_01()\n",
    "dvf = np.swapaxes(dvf, 0, 2)\n",
    "moving_image =  sitk.ReadImage(INSTANCES_PATH / 'scans' / '01_Moving.mhd')\n",
    "dvf_img = sitk.GetImageFromArray(dvf)\n",
    "\n",
    "jac_det_contracting_field = sitk.DisplacementFieldJacobianDeterminant(dvf_img)\n",
    "contracting_arr = sitk.GetArrayViewFromImage(jac_det_contracting_field)\n",
    "print(f'Volume contracting: min {np.min(contracting_arr)}, max {np.max(contracting_arr)}.') \n",
    "sns.heatmap(contracting_arr[:, :, 15], cmap=\"Greys\")"
   ]
  },
  {
   "cell_type": "code",
   "execution_count": null,
   "metadata": {},
   "outputs": [],
   "source": []
  },
  {
   "cell_type": "code",
   "execution_count": 12,
   "metadata": {},
   "outputs": [
    {
     "data": {
      "text/plain": [
       "0.0"
      ]
     },
     "execution_count": 12,
     "metadata": {},
     "output_type": "execute_result"
    },
    {
     "data": {
      "image/png": "[encoded data removed]",
      "text/plain": [
       "<Figure size 800x800 with 1 Axes>"
      ]
     },
     "metadata": {},
     "output_type": "display_data"
    }
   ],
   "source": [
    "fixed, moving, dvf = generate_synthetic_01()\n",
    "dvf = np.swapaxes(dvf, 0, 2)\n",
    "\n",
    "displacement = sitk.DisplacementFieldTransform(3)\n",
    "field_size = [30, 30, 30]\n",
    "field_origin = [0, 0, 0]\n",
    "field_spacing = [1, 1, 1]\n",
    "field_direction = [1, 0, 0, 0, 1, 0, 0, 0, 1]\n",
    "displacement.SetFixedParameters(field_size + field_origin + field_spacing + field_direction)\n",
    "displacement.SetInterpolator(sitk.sitkLinear)\n",
    "displacement.SetDisplacementField(sitk.GetImageFromArray(dvf.astype(np.float64)))\n",
    "\n",
    "fixed_img = sitk.ReadImage(\"/home/joasiee/Documents/instances/synthetic/scans/01_Fixed.mhd\")\n",
    "moving_img = sitk.ReadImage(\"/home/joasiee/Documents/instances/synthetic/scans/01_Moving.mhd\")\n",
    "deformed_img = sitk.Resample(moving_img, fixed_img, displacement, sitk.sitkLinear, 0.0)\n",
    "\n",
    "deformed_img_np = sitk.GetArrayFromImage(deformed_img)\n",
    "deformed_img_np = np.swapaxes(deformed_img_np, 0, 2)\n",
    "plot_voxels(deformed_img_np, y_slice_depth=15, orientation=(0, -90))\n",
    "np.sum(deformed_img_np - fixed)"
   ]
  },
  {
   "cell_type": "code",
   "execution_count": 19,
   "metadata": {},
   "outputs": [
    {
     "data": {
      "text/plain": [
       "1.0"
      ]
     },
     "execution_count": 19,
     "metadata": {},
     "output_type": "execute_result"
    }
   ],
   "source": [
    "dice_similarity_2(deformed_img_np, fixed)"
   ]
  },
  {
   "cell_type": "code",
   "execution_count": null,
   "metadata": {},
   "outputs": [],
   "source": []
  },
  {
   "cell_type": "code",
   "execution_count": null,
   "metadata": {},
   "outputs": [],
   "source": []
  },
  {
   "cell_type": "code",
   "execution_count": null,
   "metadata": {},
   "outputs": [],
   "source": []
  },
  {
   "cell_type": "code",
   "execution_count": null,
   "metadata": {},
   "outputs": [],
   "source": []
  },
  {
   "cell_type": "code",
   "execution_count": null,
   "metadata": {},
   "outputs": [],
   "source": []
  },
  {
   "cell_type": "code",
   "execution_count": null,
   "metadata": {},
   "outputs": [],
   "source": []
  },
  {
   "cell_type": "code",
   "execution_count": null,
   "metadata": {},
   "outputs": [],
   "source": []
  },
  {
   "cell_type": "code",
   "execution_count": null,
   "metadata": {},
   "outputs": [],
   "source": []
  },
  {
   "cell_type": "code",
   "execution_count": null,
   "metadata": {},
   "outputs": [],
   "source": []
  },
  {
   "cell_type": "code",
   "execution_count": null,
   "metadata": {},
   "outputs": [],
   "source": []
  },
  {
   "cell_type": "code",
   "execution_count": null,
   "metadata": {},
   "outputs": [],
   "source": []
  },
  {
   "cell_type": "code",
   "execution_count": 198,
   "metadata": {},
   "outputs": [],
   "source": [
    "# # Bending energy calculation using interpolation\n",
    "\n",
    "# from joblib import Parallel, delayed\n",
    "# import numdifftools as nd\n",
    "# from interp3d import interp_3d\n",
    "# from tqdm import tqdm\n",
    "\n",
    "# def get_hessians_numdiff(dvf):\n",
    "#   hessians = []\n",
    "#   for dim in range(len(dvf.shape)-1):\n",
    "#       dvf_slice = dvf[..., dim]\n",
    "#       max_indices = np.array(dvf_slice.shape) - 1\n",
    "#       dvf_mapping = lambda x: dvf_slice[tuple(np.clip(x.astype(int), 0, max_indices))]\n",
    "#       hessian = nd.Hessian(dvf_mapping, step=1)\n",
    "#       hessians.append(hessian)\n",
    "#   return hessians\n",
    "\n",
    "# def bending_energy_numdiff(dvf):\n",
    "#   sum = 0.0\n",
    "#   hessians = get_hessians_numdiff(dvf)\n",
    "#   for p in np.ndindex(dvf.shape[:-1]):\n",
    "#     for dim in range(len(dvf.shape)-1):\n",
    "#       sum += np.square(np.linalg.norm(hessians[dim](p)))\n",
    "#   return sum / np.prod(dvf.shape[:-1])\n",
    "\n",
    "# def hessian(grid_interpolator, p, delta):\n",
    "#   p = np.array(p)\n",
    "#   try:\n",
    "#     grid_interpolator(p)\n",
    "#   except ValueError:\n",
    "#     print(f\"Point {p} is out of bounds\")\n",
    "#     return None\n",
    "\n",
    "#   n = len(p)\n",
    "#   output = np.matrix(np.zeros(n*n))\n",
    "#   output = output.reshape(n,n)\n",
    "#   max_indices = [grid_interpolator.max_x, grid_interpolator.max_y, grid_interpolator.max_z]\n",
    "  \n",
    "#   for i in range(n):\n",
    "#     for j in range(i+1):\n",
    "#       ei = np.zeros(n)\n",
    "#       ei[i] = 1\n",
    "#       ej = np.zeros(n)\n",
    "#       ej[j] = 1\n",
    "#       f1 = grid_interpolator(np.clip(p + delta * ei + delta * ej, 0, max_indices))\n",
    "#       f2 = grid_interpolator(np.clip(p + delta * ei - delta * ej, 0, max_indices))\n",
    "#       f3 = grid_interpolator(np.clip(p - delta * ei + delta * ej, 0, max_indices))\n",
    "#       f4 = grid_interpolator(np.clip(p - delta * ei - delta * ej, 0, max_indices))\n",
    "#       numdiff = (f1-f2-f3+f4)/(4*delta*delta)\n",
    "#       output[i,j] = numdiff\n",
    "#       output[j,i] = numdiff\n",
    "#   return output\n",
    "\n",
    "# def bending_energy_point(interpolator, p, delta):\n",
    "#   return np.square(np.linalg.norm(hessian(interpolator, p, delta)))\n",
    "\n",
    "# def bending_energy(dvf, delta=0.333):\n",
    "#   n = np.prod(dvf.shape[:-1])\n",
    "\n",
    "#   x = np.arange(dvf.shape[0])\n",
    "#   y = np.arange(dvf.shape[1])\n",
    "#   z = np.arange(dvf.shape[2])\n",
    "#   sum = 0.0\n",
    "\n",
    "#   for dim in range(len(dvf.shape)-1):\n",
    "#     dvf_slice = np.copy(dvf[..., dim], order='C').astype(np.float64)\n",
    "#     fn = interp_3d.Interp3D(dvf_slice, x,y,z)\n",
    "#     results = ProgressParallel(n_jobs=16, total=n)(delayed(bending_energy_point)(fn, p, delta) for p in np.ndindex(dvf.shape[:-1]))\n",
    "#     sum += np.sum(results)\n",
    "\n",
    "#   return sum / np.prod(dvf.shape[:-1])"
   ]
  },
  {
   "cell_type": "code",
   "execution_count": null,
   "metadata": {},
   "outputs": [],
   "source": []
  }
 ],
 "metadata": {
  "kernelspec": {
   "display_name": "Python 3.10.6 ('.venv': poetry)",
   "language": "python",
   "name": "python3"
  },
  "language_info": {
   "codemirror_mode": {
    "name": "ipython",
    "version": 3
   },
   "file_extension": ".py",
   "mimetype": "text/x-python",
   "name": "python",
   "nbconvert_exporter": "python",
   "pygments_lexer": "ipython3",
   "version": "3.10.7"
  },
  "orig_nbformat": 4,
  "vscode": {
   "interpreter": {
    "hash": "2d2a6e7db805271b0cf909e41ec1d2658bc0cfc8d3a5bab4aa81712494dfdd87"
   }
  }
 },
 "nbformat": 4,
 "nbformat_minor": 2
}
