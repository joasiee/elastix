{
 "cells": [
  {
   "cell_type": "code",
   "execution_count": null,
   "metadata": {},
   "outputs": [],
   "source": [
    "from thesispy.experiments.wandb_client import *\n",
    "from thesispy.experiments.validation import VALIDATION_NAMES, VALIDATION_ABBRVS\n",
    "from thesispy.definitions import *\n",
    "from thesispy.plot_utils import *\n",
    "from thesispy.elastix_wrapper.wrapper import run\n",
    "from thesispy.elastix_wrapper.parameters import Parameters\n",
    "import matplotlib.pyplot as plt\n",
    "from matplotlib.ticker import ScalarFormatter\n",
    "import matplotlib.image as mpimg\n",
    "import numpy as np\n",
    "from scipy.stats import ttest_ind"
   ]
  },
  {
   "cell_type": "code",
   "execution_count": null,
   "metadata": {},
   "outputs": [],
   "source": [
    "moving_img = mpimg.imread(INSTANCES_SRC / \"examples\" / \"scans\" / \"01_Moving.png\")\n",
    "fixed_img = mpimg.imread(INSTANCES_SRC / \"examples\" / \"scans\" / \"01_Fixed.png\")\n",
    "\n",
    "fig, axes = plt.subplots(1, 2, figsize=(10, 5))\n",
    "\n",
    "axes[0].imshow(moving_img, cmap=\"gray\")\n",
    "axes[0].set_title(\"Moving\")\n",
    "\n",
    "axes[1].imshow(fixed_img, cmap=\"gray\")\n",
    "axes[1].set_title(\"Fixed\")\n",
    "\n",
    "plt.tight_layout(rect=[0, 0.03, 1, 0.95])\n",
    "plt.savefig(\"trivial_registration.pdf\")"
   ]
  },
  {
   "cell_type": "code",
   "execution_count": null,
   "metadata": {},
   "outputs": [],
   "source": [
    "params = Parameters.from_base(mesh_size=5).asgd().stopping_criteria(iterations=10000).instance(Collection.EXAMPLES, 1)\n",
    "run_result = run(params, Path(\"output/\" + str(params)), suppress_stdout=False, visualize=False, validate=True)"
   ]
  },
  {
   "cell_type": "code",
   "execution_count": null,
   "metadata": {},
   "outputs": [],
   "source": [
    "from thesispy.experiments.validation import *\n",
    "\n",
    "plt.figure(figsize=(7, 7))\n",
    "plot_dvf(run_result.dvf, scale=5)\n",
    "plt.savefig(\"trivial_dvf.pdf\")"
   ]
  },
  {
   "cell_type": "code",
   "execution_count": null,
   "metadata": {},
   "outputs": [],
   "source": [
    "plt.figure(figsize=(7, 7))\n",
    "plt.imshow(run_result.deformed, cmap=\"gray\")\n",
    "plt.savefig(\"trivial_deformed.pdf\")"
   ]
  },
  {
   "cell_type": "code",
   "execution_count": null,
   "metadata": {},
   "outputs": [],
   "source": [
    "iteration_output = np.loadtxt(Path(\"output\") / \"1669219915_examples_1_adaptivestochasticgradientdescent_16598\" / \"out\" / \"IterationInfo.0.R0.txt\", skiprows=1)\n",
    "missed_pixels = iteration_output[:, 2]"
   ]
  },
  {
   "cell_type": "code",
   "execution_count": null,
   "metadata": {},
   "outputs": [],
   "source": [
    "from thesispy.plot_utils import *\n",
    "\n",
    "plt.figure(figsize=(7, 7))\n",
    "plt.plot(missed_pixels)\n",
    "plt.xlabel(\"Iteration\")\n",
    "plt.ylabel(\"Missed voxels (\\%)\")\n",
    "\n",
    "plt.savefig(\"trivial_missedvoxels.pdf\")"
   ]
  },
  {
   "cell_type": "code",
   "execution_count": null,
   "metadata": {},
   "outputs": [],
   "source": [
    "ds = get_runs_as_dataset(\"synthetic_1_constrained_selection\")"
   ]
  },
  {
   "cell_type": "code",
   "execution_count": null,
   "metadata": {},
   "outputs": [],
   "source": [
    "arrs = ds.aggregate_for_plot([\"UseConstraints\", \"MissedPixelConstraintThreshold\"])\n",
    "arrs_mp = ds.aggregate_for_plot([\"UseConstraints\", \"MissedPixelConstraintThreshold\"], metric=\"missedpixels\")"
   ]
  },
  {
   "cell_type": "code",
   "execution_count": null,
   "metadata": {},
   "outputs": [],
   "source": [
    "fig, axes = plt.subplots(1, 2, figsize=(15, 5))\n",
    "formatter = ScalarFormatter(useMathText=True)\n",
    "formatter.set_scientific(False)\n",
    "\n",
    "for use_constraints in [True, False]:\n",
    "    for i, constraints_threshold in enumerate([0, 0.5, 2, 5, 10]):\n",
    "        if not use_constraints and i > 0:\n",
    "            continue\n",
    "\n",
    "        arr_avg, arr_median, arr_std = arrs[(use_constraints, constraints_threshold)]\n",
    "        xs = np.linspace(0, 1000, len(arr_median))\n",
    "        label = f\"Constrained: {constraints_threshold}\\%\" if use_constraints else \"Penalty\"\n",
    "        axes[0].plot(xs, arr_median, label=label)\n",
    "        axes[0].fill_between(xs, arr_median - arr_std, arr_median + arr_std, alpha=0.2)\n",
    "\n",
    "        arr_avg, arr_median, arr_std = arrs_mp[(use_constraints, constraints_threshold)]\n",
    "        xs = np.linspace(0, 1000, len(arr_median))\n",
    "        axes[1].plot(xs, arr_median, label=label)\n",
    "        axes[1].fill_between(xs, arr_median - arr_std, arr_median + arr_std, alpha=0.2)\n",
    "    \n",
    "        # formatting\n",
    "        axes[0].set_yscale(\"log\")\n",
    "        axes[0].yaxis.set_major_formatter(formatter)\n",
    "        axes[0].set_xlabel(\"Iteration\", fontsize=12)\n",
    "        axes[0].set_ylabel(\"$MSD$\", fontsize=12)\n",
    "        axes[1].set_ylabel(\"Missed voxels (\\%)\", fontsize=12)\n",
    "\n",
    "\n",
    "handles, labels = axes[0].get_legend_handles_labels()\n",
    "order = [0, 5, 1, 2, 3, 4]\n",
    "handles = [handles[i] for i in order]\n",
    "labels = [labels[i] for i in order]\n",
    "fig.legend(handles, labels, ncol=1, loc=\"center right\", prop={'size': 12})\n",
    "plt.tight_layout(rect=[0, 0.02, 0.85, 1])\n",
    "plt.savefig(\"constrained_selection_iterations.pdf\")"
   ]
  },
  {
   "cell_type": "code",
   "execution_count": null,
   "metadata": {},
   "outputs": [],
   "source": []
  }
 ],
 "metadata": {
  "kernelspec": {
   "display_name": "Python 3.10.8 ('.venv': poetry)",
   "language": "python",
   "name": "python3"
  },
  "language_info": {
   "codemirror_mode": {
    "name": "ipython",
    "version": 3
   },
   "file_extension": ".py",
   "mimetype": "text/x-python",
   "name": "python",
   "nbconvert_exporter": "python",
   "pygments_lexer": "ipython3",
   "version": "3.10.8"
  },
  "orig_nbformat": 4,
  "vscode": {
   "interpreter": {
    "hash": "2d2a6e7db805271b0cf909e41ec1d2658bc0cfc8d3a5bab4aa81712494dfdd87"
   }
  }
 },
 "nbformat": 4,
 "nbformat_minor": 2
}
