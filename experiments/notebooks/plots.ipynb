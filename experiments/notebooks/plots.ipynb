{
 "cells": [
  {
   "cell_type": "code",
   "execution_count": 2,
   "metadata": {},
   "outputs": [],
   "source": [
    "import wandb\n",
    "import matplotlib.pyplot as plt\n",
    "import seaborn as sns\n",
    "import pandas as pd\n",
    "import numpy as np\n",
    "from thesispy.experiments.dataset import FinishedRun, Dataset\n",
    "\n",
    "plt.style.use([\"science\", \"high-vis\", \"../resources/plt_custom.txt\"])\n",
    "api = wandb.Api(timeout=30)\n",
    "entity = \"joasiee\"\n",
    "DEFAULT_WIDTH = 485\n",
    "\n",
    "\n",
    "def parse_run(run):\n",
    "    return FinishedRun(\n",
    "        run.name, run.config, pd.DataFrame.from_dict(run.scan_history())\n",
    "    )\n",
    "\n",
    "def get_runs_as_dataset(project, filters={}):\n",
    "    runs = []\n",
    "    for run in api.runs(entity + \"/\" + project, filters=filters):\n",
    "        runs.append(parse_run(run))\n",
    "    return Dataset(project, runs)"
   ]
  },
  {
   "cell_type": "code",
   "execution_count": null,
   "metadata": {},
   "outputs": [],
   "source": [
    "sampling_ds = Dataset.load(\"sampling_experiment2\")\n",
    "asgd_sampling = sampling_ds.filter(\"Optimizer == 'AdaptiveStochasticGradientDescent'\")\n",
    "gomeafull_sampling = sampling_ds.filter(\"Optimizer == 'GOMEA' AND NOT PartialEvaluations\")\n",
    "gomeapartial_sampling = sampling_ds.filter(\"Optimizer == 'GOMEA' AND PartialEvaluations\")"
   ]
  },
  {
   "cell_type": "code",
   "execution_count": null,
   "metadata": {},
   "outputs": [],
   "source": [
    "groups = []\n",
    "final_evals = []\n",
    "\n",
    "for group, runs in gomeapartial_sampling.groupby([\"SamplingPercentage\"]):\n",
    "    groups.append(group[0])\n",
    "    evals = []\n",
    "    for run in runs:\n",
    "        evals.append(run.resolutions_val[0][\"R0/metric\"])\n",
    "    if len(runs) == 4:\n",
    "        evals.append(np.mean(evals))\n",
    "    final_evals.append(evals)\n",
    "\n",
    "groups = [np.around(group,2) for group in groups]\n",
    "groups, final_evals = zip(*sorted(zip(groups, final_evals)))\n",
    "gomeapartial_df = pd.DataFrame(np.array(final_evals).transpose(), columns=groups)\n",
    "gomeapartial_df[\"Optimizer\"] = \"GOMEA-partial\""
   ]
  },
  {
   "cell_type": "code",
   "execution_count": null,
   "metadata": {},
   "outputs": [],
   "source": [
    "frames = [asgd_df, gomeafull_df, gomeapartial_df]\n",
    "sampling_df = pd.concat(frames)\n",
    "boxplot_df = pd.melt(sampling_df, id_vars=[\"Optimizer\"], var_name=\"SamplingPercentage\", value_name=\"MSE\")"
   ]
  },
  {
   "cell_type": "code",
   "execution_count": null,
   "metadata": {},
   "outputs": [],
   "source": [
    "sns.boxplot(x=\"SamplingPercentage\", y=\"MSE\", hue=\"Optimizer\", data=boxplot_df, linewidth=0.7, fliersize=0.25)\n",
    "plt.savefig(\"sampling_boxplot_all.pdf\")"
   ]
  },
  {
   "cell_type": "code",
   "execution_count": null,
   "metadata": {},
   "outputs": [],
   "source": [
    "def sampling_boxplots(title, filters):\n",
    "    asgd_sampling = get_runs_as_dataset(\"sampling_experiment2\", filters)\n",
    "\n",
    "    groups = []\n",
    "    final_evals = []\n",
    "\n",
    "    for group, runs in asgd_sampling.groupby([\"SamplingPercentage\"]):\n",
    "        groups.append(group[0])\n",
    "        evals = []\n",
    "        for run in runs:\n",
    "            evals.append(run.resolutions_val[0][\"R0/metric\"])\n",
    "        final_evals.append(evals)\n",
    "\n",
    "    groups, final_evals = zip(*sorted(zip(groups, final_evals)))\n",
    "    g = sns.boxplot(data=final_evals, palette=\"ch:s=.25,rot=-.25\")\n",
    "\n",
    "    g.set_xticklabels([str(np.around(x, 2)) for x in groups])\n",
    "    plt.xlabel(\"Sampling Percentage\")\n",
    "    plt.ylabel(\"Mean Squared Error\")\n",
    "    plt.title(title)"
   ]
  },
  {
   "cell_type": "code",
   "execution_count": null,
   "metadata": {},
   "outputs": [],
   "source": [
    "sampling_boxplots(\n",
    "    \"Adaptive Stochastic Gradient Descent\",\n",
    "    {\"config.Optimizer\": \"AdaptiveStochasticGradientDescent\"},\n",
    ")\n"
   ]
  },
  {
   "cell_type": "code",
   "execution_count": null,
   "metadata": {},
   "outputs": [],
   "source": [
    "sampling_boxplots(\n",
    "    \"GOMEA-full\",\n",
    "    {\"config.Optimizer\": \"GOMEA\", \"config.PartialEvaluations\": {\"$exists\": False}},\n",
    ")\n"
   ]
  },
  {
   "cell_type": "code",
   "execution_count": null,
   "metadata": {},
   "outputs": [],
   "source": [
    "sampling_boxplots(\n",
    "    \"GOMEA-partial\",\n",
    "    {\"config.Optimizer\": \"GOMEA\", \"config.PartialEvaluations\": True},\n",
    ")"
   ]
  },
  {
   "cell_type": "code",
   "execution_count": null,
   "metadata": {},
   "outputs": [],
   "source": []
  }
 ],
 "metadata": {
  "interpreter": {
   "hash": "5ffe90c35dc2d02d18a35a6906a7f88d9fc2d18308a8b2307b8d2f12b25f6d1d"
  },
  "kernelspec": {
   "display_name": "Python 3.9.2 ('experiments-UJZ0_4XX-py3.9')",
   "language": "python",
   "name": "python3"
  },
  "language_info": {
   "codemirror_mode": {
    "name": "ipython",
    "version": 3
   },
   "file_extension": ".py",
   "mimetype": "text/x-python",
   "name": "python",
   "nbconvert_exporter": "python",
   "pygments_lexer": "ipython3",
   "version": "3.10.4"
  },
  "orig_nbformat": 4
 },
 "nbformat": 4,
 "nbformat_minor": 2
}
