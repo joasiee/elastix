{
    "cells": [
        {
            "cell_type": "code",
            "execution_count": 1,
            "metadata": {},
            "outputs": [],
            "source": [
                "from thesispy.plot_utils import *\n",
                "import matplotlib.pyplot as plt\n",
                "import numpy as np\n",
                "\n",
                "cmap = plt.get_cmap(\"Dark2\").colors"
            ]
        },
        {
            "cell_type": "code",
            "execution_count": 2,
            "metadata": {},
            "outputs": [],
            "source": [
                "def bezier_linear(t, c0, c1):\n",
                "    return (1 - t) * c0 + t * c1\n",
                "\n",
                "def bezier_quadratic(t, c0, c1, c2):\n",
                "    return (1 - t)**2 * c0 + 2 * (1 - t) * t * c1 + t**2 * c2\n",
                "\n",
                "def bezier_cubic(t, c0, c1, c2, c3):\n",
                "    return (1 - t)**3 * c0 + 3 * (1 - t)**2 * t * c1 + 3 * (1 - t) * t**2 * c2 + t**3 * c3\n"
            ]
        },
        {
            "cell_type": "code",
            "execution_count": 3,
            "metadata": {},
            "outputs": [],
            "source": [
                "cpoints = np.array([[0, 0], [1, 0.8], [0.8, 2.5], [0.2, 2.8]])\n",
                "# matplotlib.use('pgf')"
            ]
        },
        {
            "cell_type": "code",
            "execution_count": 7,
            "metadata": {},
            "outputs": [],
            "source": [
                "fig, axes = plt.subplots(1, 3, figsize=(12, 4))\n",
                "\n",
                "axes[0].axis('off')\n",
                "axes[0].scatter(cpoints[:, 0], cpoints[:, 1], color='black', marker='s', zorder=100, s=15)\n",
                "\n",
                "for i in range(len(cpoints)):\n",
                "    axes[0].annotate(f\"c{i}\", cpoints[i], xytext=(0, 10), textcoords='offset points', ha='center', va='bottom')\n",
                "\n",
                "t = np.linspace(0, 1, 100)\n",
                "l1 = np.array([bezier_linear(t, cpoints[0], cpoints[1]) for t in t])\n",
                "\n",
                "axes[0].plot(l1[:, 0], l1[:, 1], color=cmap[0])\n",
                "\n",
                "axes[1].axis('off')\n",
                "axes[1].scatter(cpoints[:, 0], cpoints[:, 1], color='black', marker='s', zorder=100, s=15)\n",
                "\n",
                "for i in range(len(cpoints)):\n",
                "    axes[1].annotate(f\"c{i}\", cpoints[i], xytext=(0, 10), textcoords='offset points', ha='center', va='bottom')\n",
                "\n",
                "t = np.linspace(0, 1, 100)\n",
                "l1 = np.array([bezier_linear(t, cpoints[0], cpoints[1]) for t in t])\n",
                "l2 = np.array([bezier_linear(t, cpoints[1], cpoints[2]) for t in t])\n",
                "q1 = np.array([bezier_quadratic(t, cpoints[0], cpoints[1], cpoints[2]) for t in t])\n",
                "\n",
                "axes[1].plot(l1[:, 0], l1[:, 1], color=cmap[0])\n",
                "axes[1].plot(l2[:, 0], l2[:, 1], color=cmap[0])\n",
                "axes[1].plot(q1[:, 0], q1[:, 1], color=cmap[1])\n",
                "\n",
                "a1 = bezier_linear(0.5, cpoints[0], cpoints[1])\n",
                "a2 = bezier_linear(0.5, cpoints[1], cpoints[2])\n",
                "h1 = bezier_linear(0.5, a1, a2)\n",
                "\n",
                "points = [a1, a2, h1]\n",
                "names = [\"a\", \"b\", \"c\"]\n",
                "\n",
                "for i, name in enumerate(names):\n",
                "    axes[1].annotate(name, points[i], xytext=(8, -10), textcoords='offset points', ha='center', va='bottom')\n",
                "\n",
                "axes[1].scatter(a1[0], a1[1], marker='o', zorder=100, color='grey')\n",
                "axes[1].scatter(a2[0], a2[1], marker='o', zorder=100, color='grey')\n",
                "axes[1].scatter(h1[0], h1[1], marker='o', zorder=100, color='#cc3300')\n",
                "\n",
                "axes[1].plot([a1[0], a2[0]], [a1[1], a2[1]], '--', c='grey')\n",
                "\n",
                "\n",
                "axes[2].axis('off')\n",
                "axes[2].scatter(cpoints[:, 0], cpoints[:, 1], color='black', marker='s', zorder=100, s=15)\n",
                "\n",
                "for i in range(len(cpoints)):\n",
                "    axes[2].annotate(f\"c{i}\", cpoints[i], xytext=(0, 10), textcoords='offset points', ha='center', va='bottom')\n",
                "\n",
                "t = np.linspace(0, 1, 100)\n",
                "l1 = np.array([bezier_linear(t, cpoints[0], cpoints[1]) for t in t])\n",
                "l2 = np.array([bezier_linear(t, cpoints[1], cpoints[2]) for t in t])\n",
                "l3 = np.array([bezier_linear(t, cpoints[2], cpoints[3]) for t in t])\n",
                "q1 = np.array([bezier_quadratic(t, cpoints[0], cpoints[1], cpoints[2]) for t in t])\n",
                "q2 = np.array([bezier_quadratic(t, cpoints[1], cpoints[2], cpoints[3]) for t in t])\n",
                "c1 = np.array([bezier_cubic(t, cpoints[0], cpoints[1], cpoints[2], cpoints[3]) for t in t])\n",
                "\n",
                "axes[2].plot(l1[:, 0], l1[:, 1], color=cmap[0])\n",
                "axes[2].plot(l2[:, 0], l2[:, 1], color=cmap[0])\n",
                "axes[2].plot(l3[:, 0], l3[:, 1], color=cmap[0], label=\"Linear\")\n",
                "axes[2].plot(q1[:, 0], q1[:, 1], color=cmap[1])\n",
                "axes[2].plot(q2[:, 0], q2[:, 1], color=cmap[1], label=\"Quadratic\")\n",
                "axes[2].plot(c1[:, 0], c1[:, 1], color=cmap[2], label=\"Cubic\")\n",
                "\n",
                "a1 = bezier_quadratic(0.5, cpoints[0], cpoints[1], cpoints[2])\n",
                "a2 = bezier_quadratic(0.5, cpoints[1], cpoints[2], cpoints[3])\n",
                "h1 = bezier_linear(0.5, a1, a2)\n",
                "\n",
                "points = [a1, a2, h1]\n",
                "names = [\"a\", \"b\", \"c\"]\n",
                "\n",
                "for i, name in enumerate(names):\n",
                "    axes[2].annotate(name, points[i], xytext=(5, -16), textcoords='offset points', ha='center', va='bottom')\n",
                "\n",
                "axes[2].scatter(a1[0], a1[1], marker='o', zorder=100, color='grey')\n",
                "axes[2].scatter(a2[0], a2[1], marker='o', zorder=100, color='grey')\n",
                "axes[2].scatter(h1[0], h1[1], marker='o', zorder=100, color='#cc3300')\n",
                "\n",
                "axes[2].plot([a1[0], a2[0]], [a1[1], a2[1]], '--', c='grey')\n",
                "axes[2].legend(bbox_to_anchor=(0.7, 0.2), prop={'size': 16})\n",
                "\n",
                "plt.savefig(\"bezier.pdf\", bbox_inches=\"tight\")"
            ]
        },
        {
            "cell_type": "code",
            "execution_count": 4,
            "metadata": {},
            "outputs": [],
            "source": [
                "from thesispy.plot_utils import *\n",
                "import numpy as np\n",
                "from thesispy.experiments.validation import plot_cpoints\n",
                "\n",
                "\n",
                "class Null:\n",
                "    pass"
            ]
        },
        {
            "cell_type": "code",
            "execution_count": 6,
            "metadata": {},
            "outputs": [],
            "source": [
                "grid_size = 3\n",
                "grid_spacing = [1, 1]\n",
                "grid_origin = [0, 0]\n",
                "grid_direction = np.eye(2)\n",
                "cpoints = np.zeros((grid_size, grid_size, 2))\n",
                "cpoints[:, :, 0] = np.arange(grid_size)\n",
                "cpoints[:, :, 1] = np.arange(grid_size)[:, np.newaxis]\n",
                "\n",
                "cpoints[1, 1] = [1.9, 1.0]\n",
                "cpoints[1, 2] = [1.8, 1.0]\n",
                "\n",
                "colors = [\"black\" for _ in range(grid_size**2)]\n",
                "colors[4] = \"red\"\n",
                "\n",
                "run_result = Null()\n",
                "run_result.control_points = cpoints\n",
                "run_result.grid_spacing = grid_spacing\n",
                "run_result.grid_origin = grid_origin\n",
                "run_result.instance = Null()\n",
                "run_result.instance.direction = grid_direction\n",
                "\n",
                "plot_cpoints(run_result, colors=colors, alpha=0.5, marker_size=50)\n",
                "plt.plot([1.9, 1.8], [1.0, 1.0], ':', c='grey', zorder=-100, alpha=0.5, label=\"Slack\")\n",
                "plt.fill_between([1.8, 2.5], -0.5, 2.5, color='red', alpha=0.15, linewidth=0, label=\"Invalid region\")\n",
                "\n",
                "plt.xlim(-0.1, 2.1)\n",
                "plt.ylim(-0.1, 2.1)\n",
                "\n",
                "plt.legend(loc=\"upper right\", prop={'size': 16})\n",
                "plt.xticks([])\n",
                "plt.yticks([])\n",
                "\n",
                "plt.savefig(\"example_horizontal.pdf\")"
            ]
        },
        {
            "cell_type": "code",
            "execution_count": 7,
            "metadata": {},
            "outputs": [],
            "source": [
                "grid_size = 3\n",
                "grid_spacing = [1, 1]\n",
                "grid_origin = [0, 0]\n",
                "cpoints = np.zeros((grid_size, grid_size, 2))\n",
                "cpoints[:, :, 0] = np.arange(grid_size)\n",
                "cpoints[:, :, 1] = np.arange(grid_size)[:, np.newaxis]\n",
                "\n",
                "cpoints[1, 1] = [1.7, 0.25]\n",
                "cpoints[0, 2] = [1.5, 0.5]\n",
                "\n",
                "colors = [\"black\" for _ in range(grid_size**2)]\n",
                "colors[4] = \"red\"\n",
                "\n",
                "run_result = Null()\n",
                "run_result.control_points = cpoints\n",
                "run_result.grid_spacing = grid_spacing\n",
                "run_result.grid_origin = grid_origin\n",
                "run_result.instance = Null()\n",
                "run_result.instance.direction = grid_direction\n",
                "\n",
                "plot_cpoints(run_result, colors=colors, alpha=0.5, marker_size=100)\n",
                "plt.plot([1.7, 1.5], [0.25, 0.5], ':', c='grey', zorder=-100, alpha=0.5, label=\"Slack\")\n",
                "plt.fill_between([1.5, 2.5], -0.5, 0.5, color='red', alpha=0.15, linewidth=0, label=\"Invalid region\")\n",
                "\n",
                "plt.xlim(-0.1, 2.1)\n",
                "plt.ylim(-0.1, 2.1)\n",
                "\n",
                "plt.legend(loc=\"upper right\", prop={'size': 14})\n",
                "plt.xticks([])\n",
                "plt.yticks([])\n",
                "\n",
                "plt.savefig(\"example_diagonal.pdf\")"
            ]
        },
        {
            "cell_type": "code",
            "execution_count": 28,
            "metadata": {},
            "outputs": [
                {
                    "data": {
                        "text/plain": [
                            "Text(0, 0.5, 'Iterations')"
                        ]
                    },
                    "execution_count": 28,
                    "metadata": {},
                    "output_type": "execute_result"
                },
                {
                    "data": {
                        "image/png": "[encoded data removed]",
                        "text/plain": [
                            "<Figure size 640x480 with 1 Axes>"
                        ]
                    },
                    "metadata": {},
                    "output_type": "display_data"
                }
            ],
            "source": [
                "def log_schedule(x):\n",
                "    its_offset = 50.0\n",
                "\n",
                "    if x < its_offset:\n",
                "        return 0\n",
                "    \n",
                "    max_its = 200.0\n",
                "    min_its_delta = 180.0\n",
                "\n",
                "    alpha_x = 0.05 * (x - its_offset)\n",
                "    denom = 1.0 - alpha_x / np.log(0.08)\n",
                "\n",
                "    return max_its - min_its_delta / denom\n",
                "\n",
                "xs = np.arange(0, 1000)\n",
                "ys = np.array([log_schedule(x) for x in xs])\n",
                "\n",
                "plt.plot(xs, ys, c='black')\n",
                "plt.xlabel(\"Generation\")\n",
                "plt.ylabel(\"Iterations\")"
            ]
        },
        {
            "cell_type": "code",
            "execution_count": null,
            "metadata": {},
            "outputs": [],
            "source": []
        }
    ],
    "metadata": {
        "kernelspec": {
            "display_name": "Python 3.10.6 ('.venv': poetry)",
            "language": "python",
            "name": "python3"
        },
        "language_info": {
            "codemirror_mode": {
                "name": "ipython",
                "version": 3
            },
            "file_extension": ".py",
            "mimetype": "text/x-python",
            "name": "python",
            "nbconvert_exporter": "python",
            "pygments_lexer": "ipython3",
            "version": "3.10.10"
        },
        "orig_nbformat": 4,
        "vscode": {
            "interpreter": {
                "hash": "2d2a6e7db805271b0cf909e41ec1d2658bc0cfc8d3a5bab4aa81712494dfdd87"
            }
        }
    },
    "nbformat": 4,
    "nbformat_minor": 2
}
