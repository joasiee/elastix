{
    "cells": [
        {
            "cell_type": "code",
            "execution_count": 1,
            "metadata": {},
            "outputs": [],
            "source": [
                "import itertools\n",
                "from math import sqrt\n",
                "import numpy as np\n",
                "from numpy import arange, pi, sin, cos, arccos\n",
                "\n",
                "GOLDEN_RATIO = (1 + 5**0.5)/2\n",
                "\n",
                "def fibonacci_sequence_sphere(center, radius, n_points):\n",
                "    i = arange(0, n_points)\n",
                "    theta = 2 *pi * i / GOLDEN_RATIO\n",
                "    phi = arccos(1 - 2*(i+0.5)/n_points)\n",
                "    x = radius * sin(phi) * cos(theta) + center\n",
                "    y = radius * sin(phi) * sin(theta) + center\n",
                "    z = radius * cos(phi) + center\n",
                "\n",
                "    lms = np.vstack((x, y, z)).T\n",
                "\n",
                "    return lms\n",
                "\n",
                "def uniform_distribution_faces_cube(begin_corner, end_corner, n_points_dim):\n",
                "    diff = np.array(end_corner) - np.array(begin_corner)\n",
                "    lms = []\n",
                "\n",
                "    for corner, mult in zip([begin_corner, end_corner], [1, -1]):\n",
                "        for corner_displacement in [np.array(x) for x in [(1, 1, 0), (1, 0, 1), (0, 1, 1)]]:\n",
                "            indices = list(np.nonzero(corner_displacement)[0])\n",
                "            indices.append(np.where(corner_displacement == 0)[0][0])\n",
                "            end_corner_ = corner + mult * corner_displacement * diff\n",
                "            points = np.array([None, None, None])\n",
                "            points[indices[0]] = np.linspace(corner[indices[0]], end_corner_[indices[0]], n_points_dim)\n",
                "            points[indices[1]] = np.linspace(corner[indices[1]], end_corner_[indices[1]], n_points_dim)\n",
                "            points[indices[2]] = [end_corner_[indices[2]]]\n",
                "            \n",
                "            lms.extend(list(itertools.product(*points)))\n",
                "\n",
                "    return np.unique(np.array(lms), axis=0)\n",
                "\n",
                "@np.vectorize\n",
                "def cube_sphere_mapping(x, y, z):\n",
                "    return x*sqrt(1 - y**2/2 - z**2/2 + y**2*z**2/3), y*sqrt(1 - z**2/2 - x**2/2 + z**2*x**2/3), z*sqrt(1 - x**2/2 - y**2/2 + x**2*y**2/3)\n",
                "\n",
                "def scale_and_translate(points, scale, translation):\n",
                "    return points * scale + translation\n",
                "\n",
                "def scale_and_translate_unit_sphere(points, radius, center):\n",
                "    return radius / np.linalg.norm(points, axis=1).reshape(-1, 1) * points + center\n",
                "\n",
                "def write_landmarks_to_file(*landmarks, filename):\n",
                "    total_size = sum([len(l) for l in landmarks])\n",
                "    with open(filename, 'w') as f:\n",
                "        f.write('point\\n')\n",
                "        f.write(f'{total_size}\\n')\n",
                "        for landmarks_ in landmarks:\n",
                "            for lm in landmarks_:\n",
                "                f.write(f'{lm[0]} {lm[1]} {lm[2]}\\n')                "
            ]
        },
        {
            "cell_type": "code",
            "execution_count": 2,
            "metadata": {},
            "outputs": [],
            "source": [
                "import plotly.express as px\n",
                "import plotly.io as pio\n",
                "pio.renderers.default = \"notebook_connected\""
            ]
        },
        {
            "cell_type": "code",
            "execution_count": 15,
            "metadata": {},
            "outputs": [
                {
                    "data": {
                        "text/html": [
                            "<div>                            <div id=\"9e886766-849f-4965-af2a-cade6bbc5f0f\" class=\"plotly-graph-div\" style=\"height:525px; width:100%;\"></div>            <script type=\"text/javascript\">                require([\"plotly\"], function(Plotly) {                    window.PLOTLYENV=window.PLOTLYENV || {};                                    if (document.getElementById(\"9e886766-849f-4965-af2a-cade6bbc5f0f\")) {                    Plotly.newPlot(                        \"9e886766-849f-4965-af2a-cade6bbc5f0f\",                        [{\"hovertemplate\":\"x=%{x}<br>y=%{y}<br>z=%{z}<br>color=%{marker.color}<extra></extra>\",\"legendgroup\":\"\",\"marker\":{\"color\":[0,1,2,3,4,5,6,7,8,9,10,11,12,13,14,15,16,17,18,19,20,21,22,23,24,25,26,27,28,29,30,31,32,33,34,35,36,37,38,39,40,41,42,43,44,45,46,47,48,49,50,51,52,53,54,55,56,57,58,59,60,61,62,63,64,65,66,67,68,69,70,71,72,73,74,75,76,77,78,79,80,81,82,83,84,85,86,87,88,89,90,91,92,93,94,95,96,97],\"coloraxis\":\"coloraxis\",\"symbol\":\"circle\"},\"mode\":\"markers\",\"name\":\"\",\"scene\":\"scene\",\"showlegend\":false,\"x\":[2.0,2.0,2.0,2.0,2.0,2.0,2.0,2.0,2.0,2.0,2.0,2.0,2.0,2.0,2.0,2.0,2.0,2.0,2.0,2.0,2.0,2.0,2.0,2.0,2.0,7.0,7.0,7.0,7.0,7.0,7.0,7.0,7.0,7.0,7.0,7.0,7.0,7.0,7.0,7.0,7.0,12.0,12.0,12.0,12.0,12.0,12.0,12.0,12.0,12.0,12.0,12.0,12.0,12.0,12.0,12.0,12.0,17.0,17.0,17.0,17.0,17.0,17.0,17.0,17.0,17.0,17.0,17.0,17.0,17.0,17.0,17.0,17.0,22.0,22.0,22.0,22.0,22.0,22.0,22.0,22.0,22.0,22.0,22.0,22.0,22.0,22.0,22.0,22.0,22.0,22.0,22.0,22.0,22.0,22.0,22.0,22.0,22.0],\"y\":[2.0,2.0,2.0,2.0,2.0,7.0,7.0,7.0,7.0,7.0,12.0,12.0,12.0,12.0,12.0,17.0,17.0,17.0,17.0,17.0,22.0,22.0,22.0,22.0,22.0,2.0,2.0,2.0,2.0,2.0,7.0,7.0,12.0,12.0,17.0,17.0,22.0,22.0,22.0,22.0,22.0,2.0,2.0,2.0,2.0,2.0,7.0,7.0,12.0,12.0,17.0,17.0,22.0,22.0,22.0,22.0,22.0,2.0,2.0,2.0,2.0,2.0,7.0,7.0,12.0,12.0,17.0,17.0,22.0,22.0,22.0,22.0,22.0,2.0,2.0,2.0,2.0,2.0,7.0,7.0,7.0,7.0,7.0,12.0,12.0,12.0,12.0,12.0,17.0,17.0,17.0,17.0,17.0,22.0,22.0,22.0,22.0,22.0],\"z\":[2.0,7.0,12.0,17.0,22.0,2.0,7.0,12.0,17.0,22.0,2.0,7.0,12.0,17.0,22.0,2.0,7.0,12.0,17.0,22.0,2.0,7.0,12.0,17.0,22.0,2.0,7.0,12.0,17.0,22.0,2.0,22.0,2.0,22.0,2.0,22.0,2.0,7.0,12.0,17.0,22.0,2.0,7.0,12.0,17.0,22.0,2.0,22.0,2.0,22.0,2.0,22.0,2.0,7.0,12.0,17.0,22.0,2.0,7.0,12.0,17.0,22.0,2.0,22.0,2.0,22.0,2.0,22.0,2.0,7.0,12.0,17.0,22.0,2.0,7.0,12.0,17.0,22.0,2.0,7.0,12.0,17.0,22.0,2.0,7.0,12.0,17.0,22.0,2.0,7.0,12.0,17.0,22.0,2.0,7.0,12.0,17.0,22.0],\"type\":\"scatter3d\"}],                        {\"template\":{\"data\":{\"histogram2dcontour\":[{\"type\":\"histogram2dcontour\",\"colorbar\":{\"outlinewidth\":0,\"ticks\":\"\"},\"colorscale\":[[0.0,\"#0d0887\"],[0.1111111111111111,\"#46039f\"],[0.2222222222222222,\"#7201a8\"],[0.3333333333333333,\"#9c179e\"],[0.4444444444444444,\"#bd3786\"],[0.5555555555555556,\"#d8576b\"],[0.6666666666666666,\"#ed7953\"],[0.7777777777777778,\"#fb9f3a\"],[0.8888888888888888,\"#fdca26\"],[1.0,\"#f0f921\"]]}],\"choropleth\":[{\"type\":\"choropleth\",\"colorbar\":{\"outlinewidth\":0,\"ticks\":\"\"}}],\"histogram2d\":[{\"type\":\"histogram2d\",\"colorbar\":{\"outlinewidth\":0,\"ticks\":\"\"},\"colorscale\":[[0.0,\"#0d0887\"],[0.1111111111111111,\"#46039f\"],[0.2222222222222222,\"#7201a8\"],[0.3333333333333333,\"#9c179e\"],[0.4444444444444444,\"#bd3786\"],[0.5555555555555556,\"#d8576b\"],[0.6666666666666666,\"#ed7953\"],[0.7777777777777778,\"#fb9f3a\"],[0.8888888888888888,\"#fdca26\"],[1.0,\"#f0f921\"]]}],\"heatmap\":[{\"type\":\"heatmap\",\"colorbar\":{\"outlinewidth\":0,\"ticks\":\"\"},\"colorscale\":[[0.0,\"#0d0887\"],[0.1111111111111111,\"#46039f\"],[0.2222222222222222,\"#7201a8\"],[0.3333333333333333,\"#9c179e\"],[0.4444444444444444,\"#bd3786\"],[0.5555555555555556,\"#d8576b\"],[0.6666666666666666,\"#ed7953\"],[0.7777777777777778,\"#fb9f3a\"],[0.8888888888888888,\"#fdca26\"],[1.0,\"#f0f921\"]]}],\"heatmapgl\":[{\"type\":\"heatmapgl\",\"colorbar\":{\"outlinewidth\":0,\"ticks\":\"\"},\"colorscale\":[[0.0,\"#0d0887\"],[0.1111111111111111,\"#46039f\"],[0.2222222222222222,\"#7201a8\"],[0.3333333333333333,\"#9c179e\"],[0.4444444444444444,\"#bd3786\"],[0.5555555555555556,\"#d8576b\"],[0.6666666666666666,\"#ed7953\"],[0.7777777777777778,\"#fb9f3a\"],[0.8888888888888888,\"#fdca26\"],[1.0,\"#f0f921\"]]}],\"contourcarpet\":[{\"type\":\"contourcarpet\",\"colorbar\":{\"outlinewidth\":0,\"ticks\":\"\"}}],\"contour\":[{\"type\":\"contour\",\"colorbar\":{\"outlinewidth\":0,\"ticks\":\"\"},\"colorscale\":[[0.0,\"#0d0887\"],[0.1111111111111111,\"#46039f\"],[0.2222222222222222,\"#7201a8\"],[0.3333333333333333,\"#9c179e\"],[0.4444444444444444,\"#bd3786\"],[0.5555555555555556,\"#d8576b\"],[0.6666666666666666,\"#ed7953\"],[0.7777777777777778,\"#fb9f3a\"],[0.8888888888888888,\"#fdca26\"],[1.0,\"#f0f921\"]]}],\"surface\":[{\"type\":\"surface\",\"colorbar\":{\"outlinewidth\":0,\"ticks\":\"\"},\"colorscale\":[[0.0,\"#0d0887\"],[0.1111111111111111,\"#46039f\"],[0.2222222222222222,\"#7201a8\"],[0.3333333333333333,\"#9c179e\"],[0.4444444444444444,\"#bd3786\"],[0.5555555555555556,\"#d8576b\"],[0.6666666666666666,\"#ed7953\"],[0.7777777777777778,\"#fb9f3a\"],[0.8888888888888888,\"#fdca26\"],[1.0,\"#f0f921\"]]}],\"mesh3d\":[{\"type\":\"mesh3d\",\"colorbar\":{\"outlinewidth\":0,\"ticks\":\"\"}}],\"scatter\":[{\"fillpattern\":{\"fillmode\":\"overlay\",\"size\":10,\"solidity\":0.2},\"type\":\"scatter\"}],\"parcoords\":[{\"type\":\"parcoords\",\"line\":{\"colorbar\":{\"outlinewidth\":0,\"ticks\":\"\"}}}],\"scatterpolargl\":[{\"type\":\"scatterpolargl\",\"marker\":{\"colorbar\":{\"outlinewidth\":0,\"ticks\":\"\"}}}],\"bar\":[{\"error_x\":{\"color\":\"#2a3f5f\"},\"error_y\":{\"color\":\"#2a3f5f\"},\"marker\":{\"line\":{\"color\":\"#E5ECF6\",\"width\":0.5},\"pattern\":{\"fillmode\":\"overlay\",\"size\":10,\"solidity\":0.2}},\"type\":\"bar\"}],\"scattergeo\":[{\"type\":\"scattergeo\",\"marker\":{\"colorbar\":{\"outlinewidth\":0,\"ticks\":\"\"}}}],\"scatterpolar\":[{\"type\":\"scatterpolar\",\"marker\":{\"colorbar\":{\"outlinewidth\":0,\"ticks\":\"\"}}}],\"histogram\":[{\"marker\":{\"pattern\":{\"fillmode\":\"overlay\",\"size\":10,\"solidity\":0.2}},\"type\":\"histogram\"}],\"scattergl\":[{\"type\":\"scattergl\",\"marker\":{\"colorbar\":{\"outlinewidth\":0,\"ticks\":\"\"}}}],\"scatter3d\":[{\"type\":\"scatter3d\",\"line\":{\"colorbar\":{\"outlinewidth\":0,\"ticks\":\"\"}},\"marker\":{\"colorbar\":{\"outlinewidth\":0,\"ticks\":\"\"}}}],\"scattermapbox\":[{\"type\":\"scattermapbox\",\"marker\":{\"colorbar\":{\"outlinewidth\":0,\"ticks\":\"\"}}}],\"scatterternary\":[{\"type\":\"scatterternary\",\"marker\":{\"colorbar\":{\"outlinewidth\":0,\"ticks\":\"\"}}}],\"scattercarpet\":[{\"type\":\"scattercarpet\",\"marker\":{\"colorbar\":{\"outlinewidth\":0,\"ticks\":\"\"}}}],\"carpet\":[{\"aaxis\":{\"endlinecolor\":\"#2a3f5f\",\"gridcolor\":\"white\",\"linecolor\":\"white\",\"minorgridcolor\":\"white\",\"startlinecolor\":\"#2a3f5f\"},\"baxis\":{\"endlinecolor\":\"#2a3f5f\",\"gridcolor\":\"white\",\"linecolor\":\"white\",\"minorgridcolor\":\"white\",\"startlinecolor\":\"#2a3f5f\"},\"type\":\"carpet\"}],\"table\":[{\"cells\":{\"fill\":{\"color\":\"#EBF0F8\"},\"line\":{\"color\":\"white\"}},\"header\":{\"fill\":{\"color\":\"#C8D4E3\"},\"line\":{\"color\":\"white\"}},\"type\":\"table\"}],\"barpolar\":[{\"marker\":{\"line\":{\"color\":\"#E5ECF6\",\"width\":0.5},\"pattern\":{\"fillmode\":\"overlay\",\"size\":10,\"solidity\":0.2}},\"type\":\"barpolar\"}],\"pie\":[{\"automargin\":true,\"type\":\"pie\"}]},\"layout\":{\"autotypenumbers\":\"strict\",\"colorway\":[\"#636efa\",\"#EF553B\",\"#00cc96\",\"#ab63fa\",\"#FFA15A\",\"#19d3f3\",\"#FF6692\",\"#B6E880\",\"#FF97FF\",\"#FECB52\"],\"font\":{\"color\":\"#2a3f5f\"},\"hovermode\":\"closest\",\"hoverlabel\":{\"align\":\"left\"},\"paper_bgcolor\":\"white\",\"plot_bgcolor\":\"#E5ECF6\",\"polar\":{\"bgcolor\":\"#E5ECF6\",\"angularaxis\":{\"gridcolor\":\"white\",\"linecolor\":\"white\",\"ticks\":\"\"},\"radialaxis\":{\"gridcolor\":\"white\",\"linecolor\":\"white\",\"ticks\":\"\"}},\"ternary\":{\"bgcolor\":\"#E5ECF6\",\"aaxis\":{\"gridcolor\":\"white\",\"linecolor\":\"white\",\"ticks\":\"\"},\"baxis\":{\"gridcolor\":\"white\",\"linecolor\":\"white\",\"ticks\":\"\"},\"caxis\":{\"gridcolor\":\"white\",\"linecolor\":\"white\",\"ticks\":\"\"}},\"coloraxis\":{\"colorbar\":{\"outlinewidth\":0,\"ticks\":\"\"}},\"colorscale\":{\"sequential\":[[0.0,\"#0d0887\"],[0.1111111111111111,\"#46039f\"],[0.2222222222222222,\"#7201a8\"],[0.3333333333333333,\"#9c179e\"],[0.4444444444444444,\"#bd3786\"],[0.5555555555555556,\"#d8576b\"],[0.6666666666666666,\"#ed7953\"],[0.7777777777777778,\"#fb9f3a\"],[0.8888888888888888,\"#fdca26\"],[1.0,\"#f0f921\"]],\"sequentialminus\":[[0.0,\"#0d0887\"],[0.1111111111111111,\"#46039f\"],[0.2222222222222222,\"#7201a8\"],[0.3333333333333333,\"#9c179e\"],[0.4444444444444444,\"#bd3786\"],[0.5555555555555556,\"#d8576b\"],[0.6666666666666666,\"#ed7953\"],[0.7777777777777778,\"#fb9f3a\"],[0.8888888888888888,\"#fdca26\"],[1.0,\"#f0f921\"]],\"diverging\":[[0,\"#8e0152\"],[0.1,\"#c51b7d\"],[0.2,\"#de77ae\"],[0.3,\"#f1b6da\"],[0.4,\"#fde0ef\"],[0.5,\"#f7f7f7\"],[0.6,\"#e6f5d0\"],[0.7,\"#b8e186\"],[0.8,\"#7fbc41\"],[0.9,\"#4d9221\"],[1,\"#276419\"]]},\"xaxis\":{\"gridcolor\":\"white\",\"linecolor\":\"white\",\"ticks\":\"\",\"title\":{\"standoff\":15},\"zerolinecolor\":\"white\",\"automargin\":true,\"zerolinewidth\":2},\"yaxis\":{\"gridcolor\":\"white\",\"linecolor\":\"white\",\"ticks\":\"\",\"title\":{\"standoff\":15},\"zerolinecolor\":\"white\",\"automargin\":true,\"zerolinewidth\":2},\"scene\":{\"xaxis\":{\"backgroundcolor\":\"#E5ECF6\",\"gridcolor\":\"white\",\"linecolor\":\"white\",\"showbackground\":true,\"ticks\":\"\",\"zerolinecolor\":\"white\",\"gridwidth\":2},\"yaxis\":{\"backgroundcolor\":\"#E5ECF6\",\"gridcolor\":\"white\",\"linecolor\":\"white\",\"showbackground\":true,\"ticks\":\"\",\"zerolinecolor\":\"white\",\"gridwidth\":2},\"zaxis\":{\"backgroundcolor\":\"#E5ECF6\",\"gridcolor\":\"white\",\"linecolor\":\"white\",\"showbackground\":true,\"ticks\":\"\",\"zerolinecolor\":\"white\",\"gridwidth\":2}},\"shapedefaults\":{\"line\":{\"color\":\"#2a3f5f\"}},\"annotationdefaults\":{\"arrowcolor\":\"#2a3f5f\",\"arrowhead\":0,\"arrowwidth\":1},\"geo\":{\"bgcolor\":\"white\",\"landcolor\":\"#E5ECF6\",\"subunitcolor\":\"white\",\"showland\":true,\"showlakes\":true,\"lakecolor\":\"white\"},\"title\":{\"x\":0.05},\"mapbox\":{\"style\":\"light\"}}},\"scene\":{\"domain\":{\"x\":[0.0,1.0],\"y\":[0.0,1.0]},\"xaxis\":{\"title\":{\"text\":\"x\"}},\"yaxis\":{\"title\":{\"text\":\"y\"}},\"zaxis\":{\"title\":{\"text\":\"z\"}}},\"coloraxis\":{\"colorbar\":{\"title\":{\"text\":\"color\"}},\"colorscale\":[[0.0,\"#0d0887\"],[0.1111111111111111,\"#46039f\"],[0.2222222222222222,\"#7201a8\"],[0.3333333333333333,\"#9c179e\"],[0.4444444444444444,\"#bd3786\"],[0.5555555555555556,\"#d8576b\"],[0.6666666666666666,\"#ed7953\"],[0.7777777777777778,\"#fb9f3a\"],[0.8888888888888888,\"#fdca26\"],[1.0,\"#f0f921\"]],\"showscale\":false},\"legend\":{\"tracegroupgap\":0},\"margin\":{\"t\":60}},                        {\"responsive\": true}                    ).then(function(){\n",
                            "                            \n",
                            "var gd = document.getElementById('9e886766-849f-4965-af2a-cade6bbc5f0f');\n",
                            "var x = new MutationObserver(function (mutations, observer) {{\n",
                            "        var display = window.getComputedStyle(gd).display;\n",
                            "        if (!display || display === 'none') {{\n",
                            "            console.log([gd, 'removed!']);\n",
                            "            Plotly.purge(gd);\n",
                            "            observer.disconnect();\n",
                            "        }}\n",
                            "}});\n",
                            "\n",
                            "// Listen for the removal of the full notebook cells\n",
                            "var notebookContainer = gd.closest('#notebook-container');\n",
                            "if (notebookContainer) {{\n",
                            "    x.observe(notebookContainer, {childList: true});\n",
                            "}}\n",
                            "\n",
                            "// Listen for the clearing of the current output cell\n",
                            "var outputEl = gd.closest('.output');\n",
                            "if (outputEl) {{\n",
                            "    x.observe(outputEl, {childList: true});\n",
                            "}}\n",
                            "\n",
                            "                        })                };                });            </script>        </div>"
                        ]
                    },
                    "metadata": {},
                    "output_type": "display_data"
                },
                {
                    "data": {
                        "text/plain": [
                            "294"
                        ]
                    },
                    "execution_count": 15,
                    "metadata": {},
                    "output_type": "execute_result"
                }
            ],
            "source": [
                "lms = uniform_distribution_faces_cube((-1, -1, -1), (1, 1, 1), 5)\n",
                "lms = scale_and_translate(lms, 10, 12)\n",
                "color = [i for i in range(len(lms))]\n",
                "fig = px.scatter_3d(x=lms[:,0], y=lms[:,1], z=lms[:,2], color=color)\n",
                "fig.update_coloraxes(showscale=False)\n",
                "fig.show()\n",
                "np.prod(lms.shape)"
            ]
        },
        {
            "cell_type": "code",
            "execution_count": 18,
            "metadata": {},
            "outputs": [
                {
                    "data": {
                        "text/html": [
                            "<div>                            <div id=\"db56ce51-ea3b-4f13-a1ed-7aa2141278ae\" class=\"plotly-graph-div\" style=\"height:525px; width:100%;\"></div>            <script type=\"text/javascript\">                require([\"plotly\"], function(Plotly) {                    window.PLOTLYENV=window.PLOTLYENV || {};                                    if (document.getElementById(\"db56ce51-ea3b-4f13-a1ed-7aa2141278ae\")) {                    Plotly.newPlot(                        \"db56ce51-ea3b-4f13-a1ed-7aa2141278ae\",                        [{\"hovertemplate\":\"x=%{x}<br>y=%{y}<br>z=%{z}<extra></extra>\",\"legendgroup\":\"\",\"marker\":{\"color\":\"#636efa\",\"symbol\":\"circle\"},\"mode\":\"markers\",\"name\":\"\",\"scene\":\"scene\",\"showlegend\":false,\"x\":[7.381197846482994,6.583974396909359,6.343145750507619,6.583974396909359,7.381197846482994,6.583974396909359,4.976230831431507,4.516685226452117,4.976230831431507,6.583974396909359,6.343145750507619,4.516685226452117,4.0,4.516685226452117,6.343145750507619,6.583974396909359,4.976230831431507,4.516685226452117,4.976230831431507,6.583974396909359,7.381197846482994,6.583974396909359,6.343145750507619,6.583974396909359,7.381197846482994,9.690598923241497,9.291987198454681,9.17157287525381,9.291987198454681,9.690598923241497,9.291987198454681,9.291987198454681,9.17157287525381,9.17157287525381,9.291987198454681,9.291987198454681,9.690598923241497,9.291987198454681,9.17157287525381,9.291987198454681,9.690598923241497,12.0,12.0,12.0,12.0,12.0,12.0,12.0,12.0,12.0,12.0,12.0,12.0,12.0,12.0,12.0,12.0,14.309401076758503,14.708012801545319,14.82842712474619,14.708012801545319,14.309401076758503,14.708012801545319,14.708012801545319,14.82842712474619,14.82842712474619,14.708012801545319,14.708012801545319,14.309401076758503,14.708012801545319,14.82842712474619,14.708012801545319,14.309401076758503,16.618802153517006,17.41602560309064,17.65685424949238,17.41602560309064,16.618802153517006,17.41602560309064,19.023769168568492,19.48331477354788,19.023769168568492,17.41602560309064,17.65685424949238,19.48331477354788,20.0,19.48331477354788,17.65685424949238,17.41602560309064,19.023769168568492,19.48331477354788,19.023769168568492,17.41602560309064,16.618802153517006,17.41602560309064,17.65685424949238,17.41602560309064,16.618802153517006],\"y\":[7.381197846482994,6.583974396909359,6.343145750507619,6.583974396909359,7.381197846482994,9.690598923241497,9.291987198454681,9.17157287525381,9.291987198454681,9.690598923241497,12.0,12.0,12.0,12.0,12.0,14.309401076758503,14.708012801545319,14.82842712474619,14.708012801545319,14.309401076758503,16.618802153517006,17.41602560309064,17.65685424949238,17.41602560309064,16.618802153517006,6.583974396909359,4.976230831431507,4.516685226452117,4.976230831431507,6.583974396909359,9.291987198454681,9.291987198454681,12.0,12.0,14.708012801545319,14.708012801545319,17.41602560309064,19.023769168568492,19.48331477354788,19.023769168568492,17.41602560309064,6.343145750507619,4.516685226452117,4.0,4.516685226452117,6.343145750507619,9.17157287525381,9.17157287525381,12.0,12.0,14.82842712474619,14.82842712474619,17.65685424949238,19.48331477354788,20.0,19.48331477354788,17.65685424949238,6.583974396909359,4.976230831431507,4.516685226452117,4.976230831431507,6.583974396909359,9.291987198454681,9.291987198454681,12.0,12.0,14.708012801545319,14.708012801545319,17.41602560309064,19.023769168568492,19.48331477354788,19.023769168568492,17.41602560309064,7.381197846482994,6.583974396909359,6.343145750507619,6.583974396909359,7.381197846482994,9.690598923241497,9.291987198454681,9.17157287525381,9.291987198454681,9.690598923241497,12.0,12.0,12.0,12.0,12.0,14.309401076758503,14.708012801545319,14.82842712474619,14.708012801545319,14.309401076758503,16.618802153517006,17.41602560309064,17.65685424949238,17.41602560309064,16.618802153517006],\"z\":[7.381197846482994,9.690598923241497,12.0,14.309401076758503,16.618802153517006,6.583974396909359,9.291987198454681,12.0,14.708012801545319,17.41602560309064,6.343145750507619,9.17157287525381,12.0,14.82842712474619,17.65685424949238,6.583974396909359,9.291987198454681,12.0,14.708012801545319,17.41602560309064,7.381197846482994,9.690598923241497,12.0,14.309401076758503,16.618802153517006,6.583974396909359,9.291987198454681,12.0,14.708012801545319,17.41602560309064,4.976230831431507,19.023769168568492,4.516685226452117,19.48331477354788,4.976230831431507,19.023769168568492,6.583974396909359,9.291987198454681,12.0,14.708012801545319,17.41602560309064,6.343145750507619,9.17157287525381,12.0,14.82842712474619,17.65685424949238,4.516685226452117,19.48331477354788,4.0,20.0,4.516685226452117,19.48331477354788,6.343145750507619,9.17157287525381,12.0,14.82842712474619,17.65685424949238,6.583974396909359,9.291987198454681,12.0,14.708012801545319,17.41602560309064,4.976230831431507,19.023769168568492,4.516685226452117,19.48331477354788,4.976230831431507,19.023769168568492,6.583974396909359,9.291987198454681,12.0,14.708012801545319,17.41602560309064,7.381197846482994,9.690598923241497,12.0,14.309401076758503,16.618802153517006,6.583974396909359,9.291987198454681,12.0,14.708012801545319,17.41602560309064,6.343145750507619,9.17157287525381,12.0,14.82842712474619,17.65685424949238,6.583974396909359,9.291987198454681,12.0,14.708012801545319,17.41602560309064,7.381197846482994,9.690598923241497,12.0,14.309401076758503,16.618802153517006],\"type\":\"scatter3d\"}],                        {\"template\":{\"data\":{\"histogram2dcontour\":[{\"type\":\"histogram2dcontour\",\"colorbar\":{\"outlinewidth\":0,\"ticks\":\"\"},\"colorscale\":[[0.0,\"#0d0887\"],[0.1111111111111111,\"#46039f\"],[0.2222222222222222,\"#7201a8\"],[0.3333333333333333,\"#9c179e\"],[0.4444444444444444,\"#bd3786\"],[0.5555555555555556,\"#d8576b\"],[0.6666666666666666,\"#ed7953\"],[0.7777777777777778,\"#fb9f3a\"],[0.8888888888888888,\"#fdca26\"],[1.0,\"#f0f921\"]]}],\"choropleth\":[{\"type\":\"choropleth\",\"colorbar\":{\"outlinewidth\":0,\"ticks\":\"\"}}],\"histogram2d\":[{\"type\":\"histogram2d\",\"colorbar\":{\"outlinewidth\":0,\"ticks\":\"\"},\"colorscale\":[[0.0,\"#0d0887\"],[0.1111111111111111,\"#46039f\"],[0.2222222222222222,\"#7201a8\"],[0.3333333333333333,\"#9c179e\"],[0.4444444444444444,\"#bd3786\"],[0.5555555555555556,\"#d8576b\"],[0.6666666666666666,\"#ed7953\"],[0.7777777777777778,\"#fb9f3a\"],[0.8888888888888888,\"#fdca26\"],[1.0,\"#f0f921\"]]}],\"heatmap\":[{\"type\":\"heatmap\",\"colorbar\":{\"outlinewidth\":0,\"ticks\":\"\"},\"colorscale\":[[0.0,\"#0d0887\"],[0.1111111111111111,\"#46039f\"],[0.2222222222222222,\"#7201a8\"],[0.3333333333333333,\"#9c179e\"],[0.4444444444444444,\"#bd3786\"],[0.5555555555555556,\"#d8576b\"],[0.6666666666666666,\"#ed7953\"],[0.7777777777777778,\"#fb9f3a\"],[0.8888888888888888,\"#fdca26\"],[1.0,\"#f0f921\"]]}],\"heatmapgl\":[{\"type\":\"heatmapgl\",\"colorbar\":{\"outlinewidth\":0,\"ticks\":\"\"},\"colorscale\":[[0.0,\"#0d0887\"],[0.1111111111111111,\"#46039f\"],[0.2222222222222222,\"#7201a8\"],[0.3333333333333333,\"#9c179e\"],[0.4444444444444444,\"#bd3786\"],[0.5555555555555556,\"#d8576b\"],[0.6666666666666666,\"#ed7953\"],[0.7777777777777778,\"#fb9f3a\"],[0.8888888888888888,\"#fdca26\"],[1.0,\"#f0f921\"]]}],\"contourcarpet\":[{\"type\":\"contourcarpet\",\"colorbar\":{\"outlinewidth\":0,\"ticks\":\"\"}}],\"contour\":[{\"type\":\"contour\",\"colorbar\":{\"outlinewidth\":0,\"ticks\":\"\"},\"colorscale\":[[0.0,\"#0d0887\"],[0.1111111111111111,\"#46039f\"],[0.2222222222222222,\"#7201a8\"],[0.3333333333333333,\"#9c179e\"],[0.4444444444444444,\"#bd3786\"],[0.5555555555555556,\"#d8576b\"],[0.6666666666666666,\"#ed7953\"],[0.7777777777777778,\"#fb9f3a\"],[0.8888888888888888,\"#fdca26\"],[1.0,\"#f0f921\"]]}],\"surface\":[{\"type\":\"surface\",\"colorbar\":{\"outlinewidth\":0,\"ticks\":\"\"},\"colorscale\":[[0.0,\"#0d0887\"],[0.1111111111111111,\"#46039f\"],[0.2222222222222222,\"#7201a8\"],[0.3333333333333333,\"#9c179e\"],[0.4444444444444444,\"#bd3786\"],[0.5555555555555556,\"#d8576b\"],[0.6666666666666666,\"#ed7953\"],[0.7777777777777778,\"#fb9f3a\"],[0.8888888888888888,\"#fdca26\"],[1.0,\"#f0f921\"]]}],\"mesh3d\":[{\"type\":\"mesh3d\",\"colorbar\":{\"outlinewidth\":0,\"ticks\":\"\"}}],\"scatter\":[{\"fillpattern\":{\"fillmode\":\"overlay\",\"size\":10,\"solidity\":0.2},\"type\":\"scatter\"}],\"parcoords\":[{\"type\":\"parcoords\",\"line\":{\"colorbar\":{\"outlinewidth\":0,\"ticks\":\"\"}}}],\"scatterpolargl\":[{\"type\":\"scatterpolargl\",\"marker\":{\"colorbar\":{\"outlinewidth\":0,\"ticks\":\"\"}}}],\"bar\":[{\"error_x\":{\"color\":\"#2a3f5f\"},\"error_y\":{\"color\":\"#2a3f5f\"},\"marker\":{\"line\":{\"color\":\"#E5ECF6\",\"width\":0.5},\"pattern\":{\"fillmode\":\"overlay\",\"size\":10,\"solidity\":0.2}},\"type\":\"bar\"}],\"scattergeo\":[{\"type\":\"scattergeo\",\"marker\":{\"colorbar\":{\"outlinewidth\":0,\"ticks\":\"\"}}}],\"scatterpolar\":[{\"type\":\"scatterpolar\",\"marker\":{\"colorbar\":{\"outlinewidth\":0,\"ticks\":\"\"}}}],\"histogram\":[{\"marker\":{\"pattern\":{\"fillmode\":\"overlay\",\"size\":10,\"solidity\":0.2}},\"type\":\"histogram\"}],\"scattergl\":[{\"type\":\"scattergl\",\"marker\":{\"colorbar\":{\"outlinewidth\":0,\"ticks\":\"\"}}}],\"scatter3d\":[{\"type\":\"scatter3d\",\"line\":{\"colorbar\":{\"outlinewidth\":0,\"ticks\":\"\"}},\"marker\":{\"colorbar\":{\"outlinewidth\":0,\"ticks\":\"\"}}}],\"scattermapbox\":[{\"type\":\"scattermapbox\",\"marker\":{\"colorbar\":{\"outlinewidth\":0,\"ticks\":\"\"}}}],\"scatterternary\":[{\"type\":\"scatterternary\",\"marker\":{\"colorbar\":{\"outlinewidth\":0,\"ticks\":\"\"}}}],\"scattercarpet\":[{\"type\":\"scattercarpet\",\"marker\":{\"colorbar\":{\"outlinewidth\":0,\"ticks\":\"\"}}}],\"carpet\":[{\"aaxis\":{\"endlinecolor\":\"#2a3f5f\",\"gridcolor\":\"white\",\"linecolor\":\"white\",\"minorgridcolor\":\"white\",\"startlinecolor\":\"#2a3f5f\"},\"baxis\":{\"endlinecolor\":\"#2a3f5f\",\"gridcolor\":\"white\",\"linecolor\":\"white\",\"minorgridcolor\":\"white\",\"startlinecolor\":\"#2a3f5f\"},\"type\":\"carpet\"}],\"table\":[{\"cells\":{\"fill\":{\"color\":\"#EBF0F8\"},\"line\":{\"color\":\"white\"}},\"header\":{\"fill\":{\"color\":\"#C8D4E3\"},\"line\":{\"color\":\"white\"}},\"type\":\"table\"}],\"barpolar\":[{\"marker\":{\"line\":{\"color\":\"#E5ECF6\",\"width\":0.5},\"pattern\":{\"fillmode\":\"overlay\",\"size\":10,\"solidity\":0.2}},\"type\":\"barpolar\"}],\"pie\":[{\"automargin\":true,\"type\":\"pie\"}]},\"layout\":{\"autotypenumbers\":\"strict\",\"colorway\":[\"#636efa\",\"#EF553B\",\"#00cc96\",\"#ab63fa\",\"#FFA15A\",\"#19d3f3\",\"#FF6692\",\"#B6E880\",\"#FF97FF\",\"#FECB52\"],\"font\":{\"color\":\"#2a3f5f\"},\"hovermode\":\"closest\",\"hoverlabel\":{\"align\":\"left\"},\"paper_bgcolor\":\"white\",\"plot_bgcolor\":\"#E5ECF6\",\"polar\":{\"bgcolor\":\"#E5ECF6\",\"angularaxis\":{\"gridcolor\":\"white\",\"linecolor\":\"white\",\"ticks\":\"\"},\"radialaxis\":{\"gridcolor\":\"white\",\"linecolor\":\"white\",\"ticks\":\"\"}},\"ternary\":{\"bgcolor\":\"#E5ECF6\",\"aaxis\":{\"gridcolor\":\"white\",\"linecolor\":\"white\",\"ticks\":\"\"},\"baxis\":{\"gridcolor\":\"white\",\"linecolor\":\"white\",\"ticks\":\"\"},\"caxis\":{\"gridcolor\":\"white\",\"linecolor\":\"white\",\"ticks\":\"\"}},\"coloraxis\":{\"colorbar\":{\"outlinewidth\":0,\"ticks\":\"\"}},\"colorscale\":{\"sequential\":[[0.0,\"#0d0887\"],[0.1111111111111111,\"#46039f\"],[0.2222222222222222,\"#7201a8\"],[0.3333333333333333,\"#9c179e\"],[0.4444444444444444,\"#bd3786\"],[0.5555555555555556,\"#d8576b\"],[0.6666666666666666,\"#ed7953\"],[0.7777777777777778,\"#fb9f3a\"],[0.8888888888888888,\"#fdca26\"],[1.0,\"#f0f921\"]],\"sequentialminus\":[[0.0,\"#0d0887\"],[0.1111111111111111,\"#46039f\"],[0.2222222222222222,\"#7201a8\"],[0.3333333333333333,\"#9c179e\"],[0.4444444444444444,\"#bd3786\"],[0.5555555555555556,\"#d8576b\"],[0.6666666666666666,\"#ed7953\"],[0.7777777777777778,\"#fb9f3a\"],[0.8888888888888888,\"#fdca26\"],[1.0,\"#f0f921\"]],\"diverging\":[[0,\"#8e0152\"],[0.1,\"#c51b7d\"],[0.2,\"#de77ae\"],[0.3,\"#f1b6da\"],[0.4,\"#fde0ef\"],[0.5,\"#f7f7f7\"],[0.6,\"#e6f5d0\"],[0.7,\"#b8e186\"],[0.8,\"#7fbc41\"],[0.9,\"#4d9221\"],[1,\"#276419\"]]},\"xaxis\":{\"gridcolor\":\"white\",\"linecolor\":\"white\",\"ticks\":\"\",\"title\":{\"standoff\":15},\"zerolinecolor\":\"white\",\"automargin\":true,\"zerolinewidth\":2},\"yaxis\":{\"gridcolor\":\"white\",\"linecolor\":\"white\",\"ticks\":\"\",\"title\":{\"standoff\":15},\"zerolinecolor\":\"white\",\"automargin\":true,\"zerolinewidth\":2},\"scene\":{\"xaxis\":{\"backgroundcolor\":\"#E5ECF6\",\"gridcolor\":\"white\",\"linecolor\":\"white\",\"showbackground\":true,\"ticks\":\"\",\"zerolinecolor\":\"white\",\"gridwidth\":2},\"yaxis\":{\"backgroundcolor\":\"#E5ECF6\",\"gridcolor\":\"white\",\"linecolor\":\"white\",\"showbackground\":true,\"ticks\":\"\",\"zerolinecolor\":\"white\",\"gridwidth\":2},\"zaxis\":{\"backgroundcolor\":\"#E5ECF6\",\"gridcolor\":\"white\",\"linecolor\":\"white\",\"showbackground\":true,\"ticks\":\"\",\"zerolinecolor\":\"white\",\"gridwidth\":2}},\"shapedefaults\":{\"line\":{\"color\":\"#2a3f5f\"}},\"annotationdefaults\":{\"arrowcolor\":\"#2a3f5f\",\"arrowhead\":0,\"arrowwidth\":1},\"geo\":{\"bgcolor\":\"white\",\"landcolor\":\"#E5ECF6\",\"subunitcolor\":\"white\",\"showland\":true,\"showlakes\":true,\"lakecolor\":\"white\"},\"title\":{\"x\":0.05},\"mapbox\":{\"style\":\"light\"}}},\"scene\":{\"domain\":{\"x\":[0.0,1.0],\"y\":[0.0,1.0]},\"xaxis\":{\"title\":{\"text\":\"x\"}},\"yaxis\":{\"title\":{\"text\":\"y\"}},\"zaxis\":{\"title\":{\"text\":\"z\"}}},\"legend\":{\"tracegroupgap\":0},\"margin\":{\"t\":60},\"coloraxis\":{\"showscale\":false}},                        {\"responsive\": true}                    ).then(function(){\n",
                            "                            \n",
                            "var gd = document.getElementById('db56ce51-ea3b-4f13-a1ed-7aa2141278ae');\n",
                            "var x = new MutationObserver(function (mutations, observer) {{\n",
                            "        var display = window.getComputedStyle(gd).display;\n",
                            "        if (!display || display === 'none') {{\n",
                            "            console.log([gd, 'removed!']);\n",
                            "            Plotly.purge(gd);\n",
                            "            observer.disconnect();\n",
                            "        }}\n",
                            "}});\n",
                            "\n",
                            "// Listen for the removal of the full notebook cells\n",
                            "var notebookContainer = gd.closest('#notebook-container');\n",
                            "if (notebookContainer) {{\n",
                            "    x.observe(notebookContainer, {childList: true});\n",
                            "}}\n",
                            "\n",
                            "// Listen for the clearing of the current output cell\n",
                            "var outputEl = gd.closest('.output');\n",
                            "if (outputEl) {{\n",
                            "    x.observe(outputEl, {childList: true});\n",
                            "}}\n",
                            "\n",
                            "                        })                };                });            </script>        </div>"
                        ]
                    },
                    "metadata": {},
                    "output_type": "display_data"
                }
            ],
            "source": [
                "unit_cube_points = uniform_distribution_faces_cube((-1, -1, -1), (1, 1, 1), 5)\n",
                "unit_sphere_points = np.array(cube_sphere_mapping(*unit_cube_points.T)).T\n",
                "lms_sphere = scale_and_translate_unit_sphere(unit_sphere_points, 8, 12)\n",
                "fig = px.scatter_3d(x=lms_sphere[:,0], y=lms_sphere[:,1], z=lms_sphere[:,2])\n",
                "fig.update_coloraxes(showscale=False)\n",
                "fig.show()"
            ]
        },
        {
            "cell_type": "code",
            "execution_count": 8,
            "metadata": {},
            "outputs": [],
            "source": [
                "unit_cube_points = uniform_distribution_faces_cube((-1, -1, -1), (1, 1, 1), 5)\n",
                "unit_sphere_points = np.array(cube_sphere_mapping(*unit_cube_points.T)).T\n",
                "\n",
                "# Scene 01\n",
                "\n",
                "lms_cube = scale_and_translate(unit_cube_points, 10, 12)\n",
                "\n",
                "lms_sphere_moving = scale_and_translate_unit_sphere(unit_sphere_points, 8, 12)\n",
                "lms_sphere_fixed = scale_and_translate_unit_sphere(unit_sphere_points, 5, 12)\n",
                "\n",
                "write_landmarks_to_file(lms_cube, lms_sphere_moving, filename='01_Moving.txt')\n",
                "write_landmarks_to_file(lms_cube, lms_sphere_fixed, filename='01_Fixed.txt')"
            ]
        },
        {
            "cell_type": "code",
            "execution_count": 14,
            "metadata": {},
            "outputs": [],
            "source": [
                "# Scene 01 - surface points\n",
                "unit_cube_points = uniform_distribution_faces_cube((-1, -1, -1), (1, 1, 1), 20)\n",
                "unit_sphere_points = np.array(cube_sphere_mapping(*unit_cube_points.T)).T\n",
                "\n",
                "lms_cube = scale_and_translate(unit_cube_points, 10, 12)\n",
                "\n",
                "lms_sphere_moving = scale_and_translate_unit_sphere(unit_sphere_points, 8, 12)\n",
                "lms_sphere_fixed = scale_and_translate_unit_sphere(unit_sphere_points, 5, 12)\n",
                "\n",
                "write_landmarks_to_file(lms_cube, filename='01_Moving.0.txt')\n",
                "write_landmarks_to_file(lms_sphere_moving, filename='01_Moving.1.txt')\n",
                "\n",
                "write_landmarks_to_file(lms_cube, filename='01_Fixed.0.txt')\n",
                "write_landmarks_to_file(lms_sphere_fixed, filename='01_Fixed.1.txt')"
            ]
        },
        {
            "cell_type": "code",
            "execution_count": 37,
            "metadata": {},
            "outputs": [],
            "source": [
                "unit_cube_points = uniform_distribution_faces_cube((-1, -1, -1), (1, 1, 1), 5)\n",
                "unit_sphere_points = np.array(cube_sphere_mapping(*unit_cube_points.T)).T\n",
                "\n",
                "#  Scene 02\n",
                "\n",
                "lms_cube_moving = scale_and_translate(unit_cube_points, 10, 15)\n",
                "\n",
                "lms_cube_fixed = scale_and_translate(unit_cube_points, 6, 15)\n",
                "\n",
                "lms_sphere_moving = scale_and_translate_unit_sphere(unit_sphere_points, 6, 15)\n",
                "\n",
                "lms_sphere_fixed = scale_and_translate_unit_sphere(unit_sphere_points, 13, 15)\n",
                "\n",
                "write_landmarks_to_file(lms_cube_moving, lms_sphere_moving, filename='02_Moving.txt')\n",
                "write_landmarks_to_file(lms_sphere_fixed, lms_cube_fixed, filename='02_Fixed.txt')"
            ]
        },
        {
            "cell_type": "code",
            "execution_count": 21,
            "metadata": {},
            "outputs": [],
            "source": [
                "# Scene 02 - surfaces\n",
                "\n",
                "unit_cube_points = uniform_distribution_faces_cube((-1, -1, -1), (1, 1, 1), 20)\n",
                "unit_sphere_points = np.array(cube_sphere_mapping(*unit_cube_points.T)).T\n",
                "\n",
                "lms_cube_moving = scale_and_translate(unit_cube_points, 10, 15)\n",
                "lms_cube_fixed = scale_and_translate(unit_cube_points, 6, 15)\n",
                "\n",
                "lms_sphere_moving = scale_and_translate_unit_sphere(unit_sphere_points, 6, 15)\n",
                "lms_sphere_fixed = scale_and_translate_unit_sphere(unit_sphere_points, 13, 15)\n",
                "\n",
                "write_landmarks_to_file(lms_cube_moving, filename='02_Moving.0.txt')\n",
                "write_landmarks_to_file(lms_sphere_moving, filename='02_Moving.1.txt')\n",
                "\n",
                "write_landmarks_to_file(lms_sphere_fixed, filename='02_Fixed.0.txt')\n",
                "write_landmarks_to_file(lms_cube_fixed, filename='02_Fixed.1.txt')"
            ]
        },
        {
            "cell_type": "code",
            "execution_count": null,
            "metadata": {},
            "outputs": [],
            "source": []
        }
    ],
    "metadata": {
        "kernelspec": {
            "display_name": "Python 3.9.10 ('.venv': poetry)",
            "language": "python",
            "name": "python3"
        },
        "language_info": {
            "codemirror_mode": {
                "name": "ipython",
                "version": 3
            },
            "file_extension": ".py",
            "mimetype": "text/x-python",
            "name": "python",
            "nbconvert_exporter": "python",
            "pygments_lexer": "ipython3",
            "version": "3.10.7"
        },
        "orig_nbformat": 4,
        "vscode": {
            "interpreter": {
                "hash": "2d2a6e7db805271b0cf909e41ec1d2658bc0cfc8d3a5bab4aa81712494dfdd87"
            }
        }
    },
    "nbformat": 4,
    "nbformat_minor": 2
}
