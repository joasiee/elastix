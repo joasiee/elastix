{
 "cells": [
  {
   "cell_type": "code",
   "execution_count": 22,
   "metadata": {},
   "outputs": [],
   "source": [
    "import wandb\n",
    "import os\n",
    "import matplotlib.pyplot as plt\n",
    "import numpy as np\n",
    "import pandas as pd\n",
    "plt.style.use('seaborn')\n",
    "\n",
    "api = wandb.Api(timeout=30)\n",
    "entity = \"joasiee\"\n",
    "optims = [\"GOMEA\", \"AdaptiveStochasticGradientDescent\"]\n",
    "\n",
    "def get_runs(project, filters={}):\n",
    "    return api.runs(entity + \"/\" + project, filters=filters)\n",
    "\n",
    "def get_finished_run_data(runs):\n",
    "    names, configs, histories = [], [], []\n",
    "    for run in runs:\n",
    "        if run.state == \"finished\":\n",
    "            names.append(run.name)\n",
    "            configs.append(\n",
    "                {k: v for k, v in run.config.items()\n",
    "                 if not k.startswith('_')})\n",
    "            history = run.scan_history()\n",
    "            histories.append(pd.DataFrame.from_dict(history))\n",
    "    return names, configs, histories\n",
    "\n",
    "def run_to_dict(name, config, history):\n",
    "    res = {\"name\": name, \"config\": config, \"resolutions\": []}\n",
    "    \n",
    "    nr_resolutions = int(config[\"NumberOfResolutions\"])\n",
    "    for r in range(0, nr_resolutions):\n",
    "        condition = ~np.isnan(history[f\"R{r}/metric\"]) if nr_resolutions > 1 else history.index\n",
    "        indices = history.index[condition]\n",
    "        columns = [\"_step\", \"_runtime\", \"_timestamp\"] +  [c for c in history.columns if f\"R{r}/\" in c]\n",
    "        history_r = history[columns]\n",
    "        res[\"resolutions\"].append(history_r.loc[indices].to_dict())\n",
    "    \n",
    "    return res"
   ]
  },
  {
   "cell_type": "code",
   "execution_count": 23,
   "metadata": {},
   "outputs": [],
   "source": [
    "names, configs, histories = get_finished_run_data(get_runs(\"zandbak\"))"
   ]
  },
  {
   "cell_type": "code",
   "execution_count": 27,
   "metadata": {},
   "outputs": [
    {
     "data": {
      "text/plain": [
       "0      92.2\n",
       "1      59.1\n",
       "2      79.5\n",
       "3     108.2\n",
       "4      38.2\n",
       "5      29.9\n",
       "6        39\n",
       "7      75.1\n",
       "8      47.0\n",
       "9      31.9\n",
       "10     35.4\n",
       "11     32.0\n",
       "12     31.4\n",
       "13     32.7\n",
       "14     30.2\n",
       "15     30.2\n",
       "16      NaN\n",
       "17     30.5\n",
       "18     30.7\n",
       "19     32.0\n",
       "20     30.8\n",
       "21     36.7\n",
       "22     29.9\n",
       "23     29.1\n",
       "24      NaN\n",
       "25     30.2\n",
       "26     28.8\n",
       "27     32.1\n",
       "28     29.7\n",
       "29     29.4\n",
       "30     31.2\n",
       "31     27.9\n",
       "32     28.4\n",
       "33     34.3\n",
       "34     30.1\n",
       "35     30.7\n",
       "36      NaN\n",
       "37     27.0\n",
       "38     34.1\n",
       "39     28.9\n",
       "40     29.0\n",
       "41     35.9\n",
       "42     27.3\n",
       "43     27.2\n",
       "44     31.5\n",
       "45     26.3\n",
       "46     26.8\n",
       "47     34.3\n",
       "48     28.7\n",
       "49     26.7\n",
       "Name: R0/time[ms], dtype: object"
      ]
     },
     "execution_count": 27,
     "metadata": {},
     "output_type": "execute_result"
    }
   ],
   "source": [
    "histories[0][\"R0/time[ms]\"]"
   ]
  },
  {
   "cell_type": "code",
   "execution_count": null,
   "metadata": {},
   "outputs": [],
   "source": []
  }
 ],
 "metadata": {
  "interpreter": {
   "hash": "5ffe90c35dc2d02d18a35a6906a7f88d9fc2d18308a8b2307b8d2f12b25f6d1d"
  },
  "kernelspec": {
   "display_name": "Python 3.9.2 ('experiments-UJZ0_4XX-py3.9')",
   "language": "python",
   "name": "python3"
  },
  "language_info": {
   "codemirror_mode": {
    "name": "ipython",
    "version": 3
   },
   "file_extension": ".py",
   "mimetype": "text/x-python",
   "name": "python",
   "nbconvert_exporter": "python",
   "pygments_lexer": "ipython3",
   "version": "3.10.3"
  },
  "orig_nbformat": 4
 },
 "nbformat": 4,
 "nbformat_minor": 2
}
