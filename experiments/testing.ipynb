{
 "cells": [
  {
   "cell_type": "code",
   "execution_count": 1,
   "metadata": {},
   "outputs": [],
   "source": [
    "import wandb\n",
    "import matplotlib.pyplot as plt\n",
    "import pandas as pd\n",
    "from experiments.dataset import FinishedRun, Dataset\n",
    "\n",
    "plt.style.use(\"seaborn\")\n",
    "\n",
    "api = wandb.Api(timeout=30)\n",
    "entity = \"joasiee\"\n",
    "\n",
    "\n",
    "def parse_run(run):\n",
    "    return FinishedRun(\n",
    "        run.name, run.config, pd.DataFrame.from_dict(run.scan_history())\n",
    "    )\n",
    "\n",
    "def get_runs_as_dataset(project, filters={}):\n",
    "    runs = []\n",
    "    for run in api.runs(entity + \"/\" + project, filters=filters):\n",
    "        runs.append(parse_run(run))\n",
    "    return Dataset(runs)\n"
   ]
  },
  {
   "cell_type": "code",
   "execution_count": 2,
   "metadata": {},
   "outputs": [],
   "source": [
    "asgd_sampling = get_runs_as_dataset(\"sampling_experiment2\", {\"config.Optimizer\": \"AdaptiveStochasticGradientDescent\"})"
   ]
  },
  {
   "cell_type": "code",
   "execution_count": null,
   "metadata": {},
   "outputs": [],
   "source": []
  }
 ],
 "metadata": {
  "interpreter": {
   "hash": "5ffe90c35dc2d02d18a35a6906a7f88d9fc2d18308a8b2307b8d2f12b25f6d1d"
  },
  "kernelspec": {
   "display_name": "Python 3.9.2 ('experiments-UJZ0_4XX-py3.9')",
   "language": "python",
   "name": "python3"
  },
  "language_info": {
   "codemirror_mode": {
    "name": "ipython",
    "version": 3
   },
   "file_extension": ".py",
   "mimetype": "text/x-python",
   "name": "python",
   "nbconvert_exporter": "python",
   "pygments_lexer": "ipython3",
   "version": "3.10.3"
  },
  "orig_nbformat": 4
 },
 "nbformat": 4,
 "nbformat_minor": 2
}
