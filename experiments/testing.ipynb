{
 "cells": [
  {
   "cell_type": "code",
   "execution_count": 19,
   "metadata": {},
   "outputs": [],
   "source": [
    "import wandb\n",
    "import numpy as np\n",
    "import matplotlib.pyplot as plt\n",
    "plt.style.use('seaborn-paper')\n",
    "\n",
    "api = wandb.Api()\n",
    "entity = \"joasiee\"\n",
    "optims = [\"GOMEA\", \"AdaptiveStochasticGradientDescent\"]\n",
    "\n",
    "def get_runs(project, filters={}):\n",
    "    return api.runs(entity + \"/\" + project, filters=filters)\n",
    "\n",
    "def get_finished_run_data(runs):\n",
    "    names, configs, histories = [], [], []\n",
    "    for run in runs:\n",
    "        if run.state == \"finished\":\n",
    "            names.append(run.name)\n",
    "            configs.append(\n",
    "                {k: v for k, v in run.config.items()\n",
    "                 if not k.startswith('_')})\n",
    "            history = run.history()\n",
    "            histories.append(history)\n",
    "    return names, configs, histories"
   ]
  },
  {
   "cell_type": "code",
   "execution_count": 26,
   "metadata": {},
   "outputs": [],
   "source": [
    "def plot_sampling_p_exp(project):\n",
    "    runs = get_runs(project)\n",
    "    _, configs, histories = get_finished_run_data(runs)\n",
    "    results = {}\n",
    "\n",
    "    for i, config in enumerate(configs):\n",
    "        sp = config[\"SamplingPercentage\"]\n",
    "        if sp not in results:\n",
    "            results[sp] = []\n",
    "        results[sp].append(histories[i].iloc[-1][\"R0/metric\"])\n",
    "\n",
    "    means = [np.mean(result) for result in results.values()]\n",
    "    sps = [float(sp) for sp in results.keys()]\n",
    "\n",
    "    plt.figure(figsize=(8,6))\n",
    "    plt.scatter(sps, means)"
   ]
  },
  {
   "cell_type": "code",
   "execution_count": null,
   "metadata": {},
   "outputs": [],
   "source": []
  }
 ],
 "metadata": {
  "interpreter": {
   "hash": "5ffe90c35dc2d02d18a35a6906a7f88d9fc2d18308a8b2307b8d2f12b25f6d1d"
  },
  "kernelspec": {
   "display_name": "Python 3.9.2 ('experiments-UJZ0_4XX-py3.9')",
   "language": "python",
   "name": "python3"
  },
  "language_info": {
   "codemirror_mode": {
    "name": "ipython",
    "version": 3
   },
   "file_extension": ".py",
   "mimetype": "text/x-python",
   "name": "python",
   "nbconvert_exporter": "python",
   "pygments_lexer": "ipython3",
   "version": "3.8.13"
  },
  "orig_nbformat": 4
 },
 "nbformat": 4,
 "nbformat_minor": 2
}
