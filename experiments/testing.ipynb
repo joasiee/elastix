{
 "cells": [
  {
   "cell_type": "code",
   "execution_count": 39,
   "metadata": {},
   "outputs": [],
   "source": [
    "import math\n",
    "\n",
    "def get_tasks_for_thread(remainder: int, num_tasks_default: int, thread: int):\n",
    "    num_tasks = num_tasks_default + 1 if thread < remainder else num_tasks_default\n",
    "    threads_default = max(thread - remainder, 0)\n",
    "    threads_default_plus = thread - threads_default\n",
    "    start = threads_default * num_tasks_default + threads_default_plus * (num_tasks_default + 1)\n",
    "    end = start + num_tasks - 1\n",
    "    return num_tasks, start, end\n",
    "\n",
    "def divide_tasks(tasks: int, threads: int):\n",
    "    remainder = tasks % threads\n",
    "    num_tasks_default = math.floor(tasks / threads)\n",
    "    for thread in range(threads):\n",
    "        num_tasks, start, end = get_tasks_for_thread(remainder, num_tasks_default, thread)\n",
    "        print(f\"Thread {thread}: tasks {start}-{end}, i.e. {num_tasks} tasks.\")        "
   ]
  },
  {
   "cell_type": "code",
   "execution_count": 3,
   "metadata": {},
   "outputs": [],
   "source": [
    "import wandb\n",
    "\n",
    "runs = [\"vxvf4i0w\", \"3njns1lq\", \"3g0ak4qs\", \"27jmrhhb\", \"3e03fz07\", ]\n",
    "\n",
    "for run in runs:\n",
    "    api = wandb.Api()\n",
    "    run = api.run(f\"joasiee/convergence_tests/{run}\")\n",
    "    run.config[\"downsampling\"] = 3\n",
    "    run.update()"
   ]
  },
  {
   "cell_type": "code",
   "execution_count": null,
   "metadata": {},
   "outputs": [],
   "source": []
  }
 ],
 "metadata": {
  "interpreter": {
   "hash": "5ffe90c35dc2d02d18a35a6906a7f88d9fc2d18308a8b2307b8d2f12b25f6d1d"
  },
  "kernelspec": {
   "display_name": "Python 3.9.2 ('experiments-UJZ0_4XX-py3.9')",
   "language": "python",
   "name": "python3"
  },
  "language_info": {
   "codemirror_mode": {
    "name": "ipython",
    "version": 3
   },
   "file_extension": ".py",
   "mimetype": "text/x-python",
   "name": "python",
   "nbconvert_exporter": "python",
   "pygments_lexer": "ipython3",
   "version": "3.9.2"
  },
  "orig_nbformat": 4
 },
 "nbformat": 4,
 "nbformat_minor": 2
}
