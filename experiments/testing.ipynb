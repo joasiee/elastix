{
 "cells": [
  {
   "cell_type": "code",
   "execution_count": 39,
   "metadata": {},
   "outputs": [],
   "source": [
    "import math\n",
    "\n",
    "def get_tasks_for_thread(remainder: int, num_tasks_default: int, thread: int):\n",
    "    num_tasks = num_tasks_default + 1 if thread < remainder else num_tasks_default\n",
    "    threads_default = max(thread - remainder, 0)\n",
    "    threads_default_plus = thread - threads_default\n",
    "    start = threads_default * num_tasks_default + threads_default_plus * (num_tasks_default + 1)\n",
    "    end = start + num_tasks - 1\n",
    "    return num_tasks, start, end\n",
    "\n",
    "def divide_tasks(tasks: int, threads: int):\n",
    "    remainder = tasks % threads\n",
    "    num_tasks_default = math.floor(tasks / threads)\n",
    "    for thread in range(threads):\n",
    "        num_tasks, start, end = get_tasks_for_thread(remainder, num_tasks_default, thread)\n",
    "        print(f\"Thread {thread}: tasks {start}-{end}, i.e. {num_tasks} tasks.\")        "
   ]
  },
  {
   "cell_type": "code",
   "execution_count": 42,
   "metadata": {},
   "outputs": [
    {
     "name": "stdout",
     "output_type": "stream",
     "text": [
      "Thread 0: tasks 0-0, i.e. 1 tasks.\n",
      "Thread 1: tasks 1-1, i.e. 1 tasks.\n",
      "Thread 2: tasks 2-2, i.e. 1 tasks.\n",
      "Thread 3: tasks 3-3, i.e. 1 tasks.\n",
      "Thread 4: tasks 4-4, i.e. 1 tasks.\n",
      "Thread 5: tasks 5-4, i.e. 0 tasks.\n",
      "Thread 6: tasks 5-4, i.e. 0 tasks.\n",
      "Thread 7: tasks 5-4, i.e. 0 tasks.\n",
      "Thread 8: tasks 5-4, i.e. 0 tasks.\n",
      "Thread 9: tasks 5-4, i.e. 0 tasks.\n",
      "Thread 10: tasks 5-4, i.e. 0 tasks.\n",
      "Thread 11: tasks 5-4, i.e. 0 tasks.\n",
      "Thread 12: tasks 5-4, i.e. 0 tasks.\n",
      "Thread 13: tasks 5-4, i.e. 0 tasks.\n",
      "Thread 14: tasks 5-4, i.e. 0 tasks.\n",
      "Thread 15: tasks 5-4, i.e. 0 tasks.\n"
     ]
    }
   ],
   "source": [
    "divide_tasks(5, 16)"
   ]
  },
  {
   "cell_type": "code",
   "execution_count": 7,
   "metadata": {},
   "outputs": [
    {
     "data": {
      "text/plain": [
       "2"
      ]
     },
     "execution_count": 7,
     "metadata": {},
     "output_type": "execute_result"
    }
   ],
   "source": [
    "20 % 3"
   ]
  },
  {
   "cell_type": "code",
   "execution_count": null,
   "metadata": {},
   "outputs": [],
   "source": []
  }
 ],
 "metadata": {
  "interpreter": {
   "hash": "5ffe90c35dc2d02d18a35a6906a7f88d9fc2d18308a8b2307b8d2f12b25f6d1d"
  },
  "kernelspec": {
   "display_name": "Python 3.9.2 ('experiments-UJZ0_4XX-py3.9')",
   "language": "python",
   "name": "python3"
  },
  "language_info": {
   "codemirror_mode": {
    "name": "ipython",
    "version": 3
   },
   "file_extension": ".py",
   "mimetype": "text/x-python",
   "name": "python",
   "nbconvert_exporter": "python",
   "pygments_lexer": "ipython3",
   "version": "3.9.2"
  },
  "orig_nbformat": 4
 },
 "nbformat": 4,
 "nbformat_minor": 2
}
