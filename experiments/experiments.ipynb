{
 "cells": [
  {
   "cell_type": "code",
   "execution_count": 1,
   "metadata": {},
   "outputs": [],
   "source": [
    "from experiments.wrapper import Wrapper\n",
    "from experiments.parameters import Parameters, Collection"
   ]
  },
  {
   "cell_type": "code",
   "execution_count": 2,
   "metadata": {},
   "outputs": [
    {
     "name": "stderr",
     "output_type": "stream",
     "text": [
      "2022-01-27 01:46:58,091 - Wrapper - INFO - Starting elastix for: 2022-01-27 01:46:58.091319 - EMPIRE: 1 - GOMEA.\n",
      "2022-01-27 01:48:42,898 - Wrapper - INFO - Run finished successfully.\n",
      "2022-01-27 01:48:43,193 - DBClient - INFO - Saved results with id: 2022-01-27 01:48:42.898830 - EMPIRE: 1 - GOMEA to MongoDB.\n"
     ]
    }
   ],
   "source": [
    "params = (\n",
    "        Parameters(sampler=\"Random\", mesh_size=8)\n",
    "        .gomea()\n",
    "        .instance(Collection.EMPIRE, 1)\n",
    "        .stopping_criteria(iterations=10)\n",
    "    )\n",
    "wrap = Wrapper()\n",
    "wrap.run(params)"
   ]
  },
  {
   "cell_type": "code",
   "execution_count": null,
   "metadata": {},
   "outputs": [],
   "source": []
  }
 ],
 "metadata": {
  "interpreter": {
   "hash": "c3fb25889d2d73cc43bd7c483e961b48d5a854cecdafe80985e8fdca10a69d06"
  },
  "kernelspec": {
   "display_name": "Python 3.10.1 64-bit ('experiments-Xa_5BLCH-py3.10': poetry)",
   "language": "python",
   "name": "python3"
  },
  "language_info": {
   "codemirror_mode": {
    "name": "ipython",
    "version": 3
   },
   "file_extension": ".py",
   "mimetype": "text/x-python",
   "name": "python",
   "nbconvert_exporter": "python",
   "pygments_lexer": "ipython3",
   "version": "3.10.1"
  },
  "orig_nbformat": 4
 },
 "nbformat": 4,
 "nbformat_minor": 2
}
